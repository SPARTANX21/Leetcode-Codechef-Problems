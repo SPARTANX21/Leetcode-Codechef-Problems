{
 "cells": [
  {
   "cell_type": "markdown",
   "metadata": {},
   "source": [
    "1 - Write a Python program to calculate the length of a string. "
   ]
  },
  {
   "cell_type": "code",
   "execution_count": 1,
   "metadata": {},
   "outputs": [
    {
     "data": {
      "text/plain": [
       "6"
      ]
     },
     "execution_count": 1,
     "metadata": {},
     "output_type": "execute_result"
    }
   ],
   "source": [
    "string = \"Pranay\"\n",
    "\n",
    "len(string)"
   ]
  },
  {
   "cell_type": "markdown",
   "metadata": {},
   "source": [
    "2. Write a Python program to count the number of characters (character frequency) in a string. \n",
    "\n",
    "Sample String : google.com'\n",
    "\n",
    "Expected Result : {'o': 3, 'g': 2, '.': 1, 'e': 1, 'l': 1, 'm': 1, 'c': 1}\n"
   ]
  },
  {
   "cell_type": "code",
   "execution_count": 5,
   "metadata": {},
   "outputs": [
    {
     "name": "stdout",
     "output_type": "stream",
     "text": [
      "{'g': 2, 'o': 3, 'l': 1, 'e': 1, '.': 1, 'c': 1, 'm': 1}\n"
     ]
    }
   ],
   "source": [
    "string = \"google.com\"\n",
    "\n",
    "dict1 = {}\n",
    "\n",
    "for i in string:\n",
    "    if i not in dict1:\n",
    "        dict1[i] =0\n",
    "    dict1[i]+=1\n",
    "\n",
    "print(dict1)"
   ]
  },
  {
   "cell_type": "code",
   "execution_count": 1,
   "metadata": {},
   "outputs": [
    {
     "data": {
      "text/plain": [
       "{'g': 2, 'o': 3, 'l': 1, 'e': 1, '.': 1, 'c': 1, 'm': 1}"
      ]
     },
     "execution_count": 1,
     "metadata": {},
     "output_type": "execute_result"
    }
   ],
   "source": [
    "string = \"google.com\"\n",
    "\n",
    "{x:string.count(x) for x in string}"
   ]
  },
  {
   "cell_type": "markdown",
   "metadata": {},
   "source": [
    "3. Write a Python program to get a string made of the first 2 and the last 2 chars from a given a string. If the string length is less than 2, return instead of the empty string. \n",
    "\n",
    "Sample String : 'w3resource'\n",
    "\n",
    "Expected Result : 'w3ce'\n",
    "\n",
    "Sample String : 'w3'\n",
    "\n",
    "Expected Result : 'w3w3'\n",
    "\n",
    "Sample String : ' w'\n",
    "\n",
    "Expected Result : Empty String\n",
    "\n"
   ]
  },
  {
   "cell_type": "code",
   "execution_count": 12,
   "metadata": {},
   "outputs": [
    {
     "name": "stdout",
     "output_type": "stream",
     "text": [
      "w3ce\n",
      "w3w3\n",
      " \n"
     ]
    }
   ],
   "source": [
    "string = \"w3resources\"\n",
    "\n",
    "def firstlast(s):\n",
    "    if len(s)>2:\n",
    "        return s[:2]+\"\"+s[-2:]\n",
    "    elif len(s)==2:\n",
    "        return s*2\n",
    "    else:\n",
    "        return \" \"\n",
    "\n",
    "    \n",
    "print(firstlast(\"w3resource\"))\n",
    "print(firstlast(\"w3\"))\n",
    "print(firstlast('w'))"
   ]
  },
  {
   "cell_type": "markdown",
   "metadata": {},
   "source": [
    "4. Write a Python program to get a string from a given string where all occurrences of its first char have been changed to '$', except the first char itself. \n",
    "\n",
    "Sample String : 'restart'\n",
    "\n",
    "Expected Result : 'resta$t'\n"
   ]
  },
  {
   "cell_type": "code",
   "execution_count": null,
   "metadata": {},
   "outputs": [],
   "source": []
  },
  {
   "cell_type": "markdown",
   "metadata": {},
   "source": [
    "5. Write a Python program to get a single string from two given strings, separated by a space and swap the first two characters of each string. \n",
    "\n",
    "Sample String : 'abc', 'xyz'\n",
    "\n",
    "Expected Result : 'xyc abz'\n"
   ]
  },
  {
   "cell_type": "code",
   "execution_count": 29,
   "metadata": {},
   "outputs": [
    {
     "data": {
      "text/plain": [
       "'xyc abz'"
      ]
     },
     "execution_count": 29,
     "metadata": {},
     "output_type": "execute_result"
    }
   ],
   "source": [
    "str1 = 'abc'\n",
    "str2 = 'xyz'\n",
    "str3  = str2[:2]+str1[2]+\" \"+str1[:2]+str2[2]\n",
    "\n",
    "str3"
   ]
  },
  {
   "cell_type": "markdown",
   "metadata": {},
   "source": [
    "6. Write a Python program to add 'ing' at the end of a given string (length should be at least 3). If the given string already ends with 'ing' then add 'ly' instead. If the string length of the given string is less than 3, leave it unchanged. \n",
    "\n",
    "Sample String : 'abc'\n",
    "\n",
    "Expected Result : 'abcing'\n",
    "\n",
    "Sample String : 'string'\n",
    "\n",
    "Expected Result : 'stringly'\n"
   ]
  },
  {
   "cell_type": "code",
   "execution_count": 30,
   "metadata": {},
   "outputs": [
    {
     "data": {
      "text/plain": [
       "False"
      ]
     },
     "execution_count": 30,
     "metadata": {},
     "output_type": "execute_result"
    }
   ],
   "source": [
    "str1.endswith('ing')"
   ]
  },
  {
   "cell_type": "code",
   "execution_count": 43,
   "metadata": {},
   "outputs": [
    {
     "name": "stdout",
     "output_type": "stream",
     "text": [
      "Eatly\n",
      "None\n",
      "Eatlying\n"
     ]
    }
   ],
   "source": [
    "def addING(s):\n",
    "    if len(s)>3 :\n",
    "        if s.endswith('ing'):\n",
    "            return s[:-3]+'ly'\n",
    "        else:\n",
    "            return s+'ing'\n",
    "\n",
    "print(addING(\"Eating\"))\n",
    "print(addING(\"ea\"))\n",
    "print(addING(\"Eatly\"))"
   ]
  },
  {
   "cell_type": "markdown",
   "metadata": {},
   "source": [
    "7. Write a Python program to find the first appearance of the substring 'not' and 'poor' from a given string, if 'not' follows the 'poor', replace the whole 'not'...'poor' substring with 'good'. Return the resulting string. \n",
    "\n",
    "Sample String : 'The lyrics is not that poor!'\n",
    "'The lyrics is poor!'\n",
    "\n",
    "Expected Result : 'The lyrics is good!'\n",
    "'The lyrics is poor!'\n"
   ]
  },
  {
   "cell_type": "code",
   "execution_count": 45,
   "metadata": {},
   "outputs": [
    {
     "name": "stdout",
     "output_type": "stream",
     "text": [
      "The lyrics is not that poor good\n"
     ]
    }
   ],
   "source": [
    "string = 'The lyrics is not that poor'\n",
    "\n",
    "track = []\n",
    "\n",
    "for i in string:\n",
    "    track.append(i)\n",
    "\n",
    "not1 = 0\n",
    "poor1 = 0\n",
    "for i in track:\n",
    "    if i == 'not':\n",
    "        nearby = track[i].index\n",
    "    elif i == 'poor':\n",
    "        poor1 = track[i].index\n",
    "\n",
    "if poor1-not1 < 3:\n",
    "    string = string+' good'\n",
    "print(string)"
   ]
  },
  {
   "cell_type": "code",
   "execution_count": 55,
   "metadata": {},
   "outputs": [
    {
     "name": "stdout",
     "output_type": "stream",
     "text": [
      "The lyrics is good\n"
     ]
    }
   ],
   "source": [
    "string = \"The lyrics is not that poor\"\n",
    "\n",
    "not_idx = string.find('not')\n",
    "poor_idx = string.find('poor')\n",
    "\n",
    "if not_idx<poor_idx:\n",
    "    print(string[:not_idx]+'good')\n",
    "else:\n",
    "    print(string)"
   ]
  },
  {
   "cell_type": "markdown",
   "metadata": {},
   "source": [
    "8. Write a Python function that takes a list of words and returns the length of the longest one. "
   ]
  },
  {
   "cell_type": "code",
   "execution_count": 63,
   "metadata": {},
   "outputs": [
    {
     "name": "stdout",
     "output_type": "stream",
     "text": [
      "uhygyuguyewbwicbueck\n"
     ]
    }
   ],
   "source": [
    "names = ['asfaf', 'asfuabuad', 'asfgauyfguyd', 'aydg', 'asfasdf', 'uhygyuguyewbwicbueck']\n",
    "\n",
    "def maxlength(names):\n",
    "    length = [len(x) for x in names]\n",
    "    maxlength = max(length)\n",
    "    for i in names:\n",
    "        if len(i) == maxlength:\n",
    "            print(i)\n",
    "\n",
    "maxlength(names)"
   ]
  },
  {
   "cell_type": "markdown",
   "metadata": {},
   "source": [
    "9. Write a Python program to remove the nth index character from a nonempty string. "
   ]
  },
  {
   "cell_type": "code",
   "execution_count": 77,
   "metadata": {},
   "outputs": [
    {
     "data": {
      "text/plain": [
       "'Rmove'"
      ]
     },
     "execution_count": 77,
     "metadata": {},
     "output_type": "execute_result"
    }
   ],
   "source": [
    "def removenth(string,n):\n",
    "    return string[:n-1]+string[n:]\n",
    "\n",
    "removenth(\"Remove\", 2)"
   ]
  },
  {
   "cell_type": "markdown",
   "metadata": {},
   "source": [
    "10. Write a Python program to change a given string to a new string where the first and last chars have been exchanged. "
   ]
  },
  {
   "cell_type": "code",
   "execution_count": 78,
   "metadata": {},
   "outputs": [
    {
     "name": "stdout",
     "output_type": "stream",
     "text": [
      "yranaP\n"
     ]
    }
   ],
   "source": [
    "string = \"Pranay\"\n",
    "\n",
    "newstring = string[-1]+string[1:-1]+string[0]\n",
    "\n",
    "print(newstring)"
   ]
  },
  {
   "cell_type": "markdown",
   "metadata": {},
   "source": [
    "11. Write a Python program to remove the characters which have odd index values of a given string. "
   ]
  },
  {
   "cell_type": "code",
   "execution_count": 91,
   "metadata": {},
   "outputs": [
    {
     "data": {
      "text/plain": [
       "'apae'"
      ]
     },
     "execution_count": 91,
     "metadata": {},
     "output_type": "execute_result"
    }
   ],
   "source": [
    "string = \"alphabet\"\n",
    "\n",
    "\"\".join([x for x in string if string.index(x)%2==0])"
   ]
  },
  {
   "cell_type": "markdown",
   "metadata": {},
   "source": [
    "12. Write a Python program to count the occurrences of each word in a given sentence. "
   ]
  },
  {
   "cell_type": "code",
   "execution_count": 92,
   "metadata": {},
   "outputs": [
    {
     "data": {
      "text/plain": [
       "{'A': 1,\n",
       " ' ': 3,\n",
       " 'v': 1,\n",
       " 'e': 1,\n",
       " 'r': 1,\n",
       " 'y': 2,\n",
       " 'g': 2,\n",
       " 'o': 2,\n",
       " 'd': 1,\n",
       " 'u': 1}"
      ]
     },
     "execution_count": 92,
     "metadata": {},
     "output_type": "execute_result"
    }
   ],
   "source": [
    "string = 'A very good guy'\n",
    "\n",
    "{x:string.count(x) for x in string}"
   ]
  },
  {
   "cell_type": "markdown",
   "metadata": {},
   "source": [
    "13. Write a Python script that takes input from the user and displays that input back in upper and lower cases. "
   ]
  },
  {
   "cell_type": "code",
   "execution_count": 93,
   "metadata": {},
   "outputs": [
    {
     "data": {
      "text/plain": [
       "('PRANAY', 'pranay')"
      ]
     },
     "execution_count": 93,
     "metadata": {},
     "output_type": "execute_result"
    }
   ],
   "source": [
    "def upperlower(s):\n",
    "    return s.upper(), s.lower()\n",
    "\n",
    "upperlower(\"pranay\")"
   ]
  },
  {
   "cell_type": "markdown",
   "metadata": {},
   "source": [
    "14. Write a Python program that accepts a comma separated sequence of words as input and prints the unique words in sorted form (alphanumerically). \n",
    "\n",
    "Sample Words : red, white, black, red, green, black\n",
    "\n",
    "Expected Result : black, green, red, white,red\n"
   ]
  },
  {
   "cell_type": "code",
   "execution_count": 98,
   "metadata": {},
   "outputs": [
    {
     "name": "stdout",
     "output_type": "stream",
     "text": [
      "Input =  ['red', 'orange', 'blue', 'black', 'violet', 'purple', 'white']\n",
      "['black', 'blue', 'orange', 'purple', 'red', 'violet', 'white']\n"
     ]
    }
   ],
   "source": [
    "def sortaplha():\n",
    "    word = input(\"Enter words seperated by ',' --> \").split(', ')\n",
    "    print(\"Input = \", word)\n",
    "    word.sort(key=lambda w:w)\n",
    "    print(word)\n",
    "\n",
    "sortaplha()"
   ]
  },
  {
   "cell_type": "markdown",
   "metadata": {},
   "source": [
    "15. Write a Python function to create the HTML string with tags around the word(s). \n",
    "Sample function and result :\n",
    "\n",
    "add_tags('i', 'Python') -> '<i>Python</i>'\n",
    "\n",
    "add_tags('b', 'Python Tutorial') -> '<b>Python Tutorial </b>'\n"
   ]
  },
  {
   "cell_type": "code",
   "execution_count": 106,
   "metadata": {},
   "outputs": [
    {
     "data": {
      "text/plain": [
       "'<b>Pranay</b>'"
      ]
     },
     "execution_count": 106,
     "metadata": {},
     "output_type": "execute_result"
    }
   ],
   "source": [
    "def add_tags(tag, string):\n",
    "    return f\"<{tag}>{string}</{tag}>\"\n",
    "\n",
    "add_tags('b', 'Pranay')"
   ]
  },
  {
   "cell_type": "markdown",
   "metadata": {},
   "source": [
    "16. Write a Python function to insert a string in the middle of a string. \n",
    "Sample function and result :\n",
    "\n",
    "insert_sting_middle('[[]]<<>>', 'Python') -> [[Python]]\n",
    "\n",
    "insert_sting_middle('{{}}', 'PHP') -> {{PHP}}\n"
   ]
  },
  {
   "cell_type": "code",
   "execution_count": 111,
   "metadata": {},
   "outputs": [
    {
     "data": {
      "text/plain": [
       "'{{[(Pranay)]}}'"
      ]
     },
     "execution_count": 111,
     "metadata": {},
     "output_type": "execute_result"
    }
   ],
   "source": [
    "def insertstring(pattern, string):\n",
    "    halfpattern = int(len(pattern) / 2)\n",
    "\n",
    "    return pattern[:halfpattern]+string+pattern[halfpattern:]\n",
    "\n",
    "\n",
    "insertstring('{{[()]}}', 'Pranay')"
   ]
  },
  {
   "cell_type": "markdown",
   "metadata": {},
   "source": [
    "17. Write a Python function to get a string made of 4 copies of the last two characters of a specified string (length must be at least 2). \n",
    "Sample function and result :\n",
    "\n",
    "insert_end('Python') -> onononon\n",
    "\n",
    "insert_end('Exercises') -> eseseses\n"
   ]
  },
  {
   "cell_type": "code",
   "execution_count": 116,
   "metadata": {},
   "outputs": [
    {
     "data": {
      "text/plain": [
       "'ayayayay'"
      ]
     },
     "execution_count": 116,
     "metadata": {},
     "output_type": "execute_result"
    }
   ],
   "source": [
    "def insert_end(string):\n",
    "    if len(string) >2:\n",
    "        return string[-2:]*4\n",
    "    else:\n",
    "        return string\n",
    "\n",
    "insert_end(\"Pranay\")"
   ]
  },
  {
   "cell_type": "markdown",
   "metadata": {},
   "source": [
    "18. Write a Python function to get a string made of its first three characters of a specified string. If the length of the string is less than 3 then return the original string. \n",
    "Sample function and result :\n",
    "\n",
    "first_three('ipy') -> ipy\n",
    "\n",
    "first_three('python') -> pyt\n"
   ]
  },
  {
   "cell_type": "code",
   "execution_count": 121,
   "metadata": {},
   "outputs": [
    {
     "name": "stdout",
     "output_type": "stream",
     "text": [
      "py\n",
      "pyt\n"
     ]
    }
   ],
   "source": [
    "def first_three(s):\n",
    "    if len(s)>3:\n",
    "        return s[:3]\n",
    "    else:\n",
    "        return s\n",
    "\n",
    "print(first_three(\"py\"))\n",
    "print(first_three(\"python\"))"
   ]
  },
  {
   "cell_type": "markdown",
   "metadata": {},
   "source": [
    "19. Write a Python program to get the last part of a string before a specified character. \n",
    "\n",
    "https://www.w3resource.com/python-exercises\n",
    "\n",
    "https://www.w3resource.com/python\n"
   ]
  },
  {
   "cell_type": "markdown",
   "metadata": {},
   "source": [
    "\n",
    "20. Write a Python function to reverses a string if it's length is a multiple of 4. \n"
   ]
  },
  {
   "cell_type": "code",
   "execution_count": 2,
   "metadata": {},
   "outputs": [
    {
     "name": "stdout",
     "output_type": "stream",
     "text": [
      "narp\n",
      "String should be of length 4 to be reversed\n"
     ]
    }
   ],
   "source": [
    "def revstring_4(s):\n",
    "    if len(s)==4:\n",
    "        return s[::-1]\n",
    "    else:\n",
    "        return \"String should be of length 4 to be reversed\"\n",
    "\n",
    "print(revstring_4(\"pran\"))\n",
    "print(revstring_4(\"Pranay\"))"
   ]
  },
  {
   "cell_type": "markdown",
   "metadata": {},
   "source": [
    "21. Write a Python function to convert a given string to all uppercase if it contains at least 2 uppercase characters in the first 4 characters. "
   ]
  },
  {
   "cell_type": "code",
   "execution_count": 14,
   "metadata": {},
   "outputs": [
    {
     "name": "stdout",
     "output_type": "stream",
     "text": [
      "First two characters of string are not in UPPERCASE!\n",
      "\n",
      "PRANAY SHAH\n"
     ]
    }
   ],
   "source": [
    "import regex as re\n",
    "\n",
    "def allUppercase(s):\n",
    "    if s[:2] == s[:2].upper():\n",
    "        return s.upper()\n",
    "    else:\n",
    "        return \"First two characters of string are not in UPPERCASE!\"\n",
    "    \n",
    "print(allUppercase(\"Pranay\"))\n",
    "print()\n",
    "print(allUppercase(\"PRanay shah\"))"
   ]
  },
  {
   "cell_type": "markdown",
   "metadata": {},
   "source": [
    "22.Write a Python program to sort a string lexicographically. "
   ]
  },
  {
   "cell_type": "code",
   "execution_count": 16,
   "metadata": {},
   "outputs": [
    {
     "data": {
      "text/plain": [
       "'aanpry'"
      ]
     },
     "execution_count": 16,
     "metadata": {},
     "output_type": "execute_result"
    }
   ],
   "source": [
    "def lexicographicallyPrint(s):\n",
    "    return \"\".join(sorted(s))\n",
    "\n",
    "lexicographicallyPrint(\"pranay\")"
   ]
  },
  {
   "cell_type": "markdown",
   "metadata": {},
   "source": [
    "23. Write a Python program to remove a newline in Python. "
   ]
  },
  {
   "cell_type": "code",
   "execution_count": 24,
   "metadata": {},
   "outputs": [
    {
     "name": "stdout",
     "output_type": "stream",
     "text": [
      "Pranay Shah  is the best\n",
      "\n",
      "Pranay Shah \n",
      " is the best\n"
     ]
    }
   ],
   "source": [
    "def remNewLine(s):\n",
    "    return s.replace(\"\\n\",\"\")\n",
    "\n",
    "print(remNewLine(\"Pranay Shah \\n is the best\"))\n",
    "print()\n",
    "print(\"Pranay Shah \\n is the best\")"
   ]
  },
  {
   "cell_type": "markdown",
   "metadata": {},
   "source": [
    "24. Write a Python program to check whether a string starts with specified characters. "
   ]
  },
  {
   "cell_type": "code",
   "execution_count": 32,
   "metadata": {},
   "outputs": [
    {
     "name": "stdout",
     "output_type": "stream",
     "text": [
      "It starts with Capital Letter\n",
      "\n",
      "It does not starts with capital letters\n"
     ]
    }
   ],
   "source": [
    "import regex as re\n",
    "\n",
    "def startsWith(s):\n",
    "    if re.match(r\"^[A-Z]\", s) :\n",
    "        return \"It starts with Capital Letter\"\n",
    "    else:\n",
    "        return \"It does not starts with capital letters\"\n",
    "\n",
    "print(startsWith(\"Pranay\"))\n",
    "\n",
    "print()\n",
    "\n",
    "print(startsWith(\"pranay\"))"
   ]
  },
  {
   "cell_type": "markdown",
   "metadata": {},
   "source": [
    "27. Write a Python program to remove existing indentation from all of the lines in a given text. "
   ]
  },
  {
   "cell_type": "code",
   "execution_count": 54,
   "metadata": {},
   "outputs": [
    {
     "name": "stdout",
     "output_type": "stream",
     "text": [
      "Pranay Shah is the\n",
      "best and he is also good with management\n"
     ]
    }
   ],
   "source": [
    "def removeIndentation(s):\n",
    "    if s.count(\"    \") == 1:\n",
    "        return s.replace(\"    \", \"\")\n",
    "    else:\n",
    "        return f\"String '{s}' has no Indentation\"\n",
    "\n",
    "print(removeIndentation(\"Pranay Shah is the\\n    best and he is also good with management\"))"
   ]
  },
  {
   "cell_type": "markdown",
   "metadata": {},
   "source": [
    "28. Write a Python program to add a prefix text to all of the lines in a string. "
   ]
  },
  {
   "cell_type": "code",
   "execution_count": 60,
   "metadata": {},
   "outputs": [
    {
     "data": {
      "text/plain": [
       "'Prefix : Pranay'"
      ]
     },
     "execution_count": 60,
     "metadata": {},
     "output_type": "execute_result"
    }
   ],
   "source": [
    "def joinPerfix(s):\n",
    "    return \"Prefix : \"+s\n",
    "\n",
    "joinPerfix(\"Pranay\")"
   ]
  },
  {
   "cell_type": "markdown",
   "metadata": {},
   "source": [
    "29. Write a Python program to set the indentation of the first line. "
   ]
  },
  {
   "cell_type": "code",
   "execution_count": 66,
   "metadata": {},
   "outputs": [
    {
     "data": {
      "text/plain": [
       "'    Hello its an lovely Evening,\\nWould you prefer coffee or a greentea\\n'"
      ]
     },
     "execution_count": 66,
     "metadata": {},
     "output_type": "execute_result"
    }
   ],
   "source": [
    "def setIndentation(s):\n",
    "    return \"    \"+s\n",
    "\n",
    "sample = \"\"\"Hello its an lovely Evening,\n",
    "Would you prefer coffee or a greentea\n",
    "\"\"\"\n",
    "setIndentation(sample)"
   ]
  },
  {
   "cell_type": "markdown",
   "metadata": {},
   "source": [
    "30. Write a Python program to print the following floating numbers upto 2 decimal places. "
   ]
  },
  {
   "cell_type": "code",
   "execution_count": 90,
   "metadata": {},
   "outputs": [
    {
     "data": {
      "text/plain": [
       "'Floating number up to 2 Decimal +123.32'"
      ]
     },
     "execution_count": 90,
     "metadata": {},
     "output_type": "execute_result"
    }
   ],
   "source": [
    "def print2Dec(s):\n",
    "    if s>0:\n",
    "        return f\"Floating number up to 2 Decimal +{+s:.2f}\"\n",
    "    else:\n",
    "        return f\"Floating number up to 2 Decimal {s:.2f}\"\n",
    "print2Dec(123.3214567)"
   ]
  },
  {
   "cell_type": "markdown",
   "metadata": {},
   "source": [
    "31. Write a Python program to print the following floating numbers upto 2 decimal places with a sign. "
   ]
  },
  {
   "cell_type": "code",
   "execution_count": 91,
   "metadata": {},
   "outputs": [
    {
     "data": {
      "text/plain": [
       "'Floating number up to 2 Decimal -123.32'"
      ]
     },
     "execution_count": 91,
     "metadata": {},
     "output_type": "execute_result"
    }
   ],
   "source": [
    "print2Dec(-123.3214567)"
   ]
  },
  {
   "cell_type": "markdown",
   "metadata": {},
   "source": [
    "32. Write a Python program to print the following floating numbers with no decimal places. "
   ]
  },
  {
   "cell_type": "code",
   "execution_count": 96,
   "metadata": {},
   "outputs": [
    {
     "data": {
      "text/plain": [
       "123"
      ]
     },
     "execution_count": 96,
     "metadata": {},
     "output_type": "execute_result"
    }
   ],
   "source": [
    "def noDecimal(s):\n",
    "    return int(s)\n",
    "\n",
    "noDecimal(123.1123)"
   ]
  },
  {
   "cell_type": "code",
   "execution_count": null,
   "metadata": {},
   "outputs": [],
   "source": []
  }
 ],
 "metadata": {
  "kernelspec": {
   "display_name": "base",
   "language": "python",
   "name": "python3"
  },
  "language_info": {
   "codemirror_mode": {
    "name": "ipython",
    "version": 3
   },
   "file_extension": ".py",
   "mimetype": "text/x-python",
   "name": "python",
   "nbconvert_exporter": "python",
   "pygments_lexer": "ipython3",
   "version": "3.11.10"
  }
 },
 "nbformat": 4,
 "nbformat_minor": 2
}
