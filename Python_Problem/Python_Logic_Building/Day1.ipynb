{
 "cells": [
  {
   "cell_type": "markdown",
   "metadata": {},
   "source": [
    "# **Python Practice Day1 - 27-Jan-2025**"
   ]
  },
  {
   "cell_type": "markdown",
   "metadata": {},
   "source": [
    "2. Write a Python program to get the Python version you are using.   "
   ]
  },
  {
   "cell_type": "code",
   "execution_count": null,
   "metadata": {},
   "outputs": [],
   "source": [
    "# python --version"
   ]
  },
  {
   "cell_type": "code",
   "execution_count": 3,
   "metadata": {},
   "outputs": [
    {
     "name": "stdout",
     "output_type": "stream",
     "text": [
      "3.11.10\n"
     ]
    }
   ],
   "source": [
    "from platform import python_version\n",
    "\n",
    "def getPythonVersion():\n",
    "    print(python_version()) \n",
    "\n",
    "getPythonVersion()"
   ]
  },
  {
   "cell_type": "markdown",
   "metadata": {},
   "source": [
    "3. Write a Python program to display the current date and time.  \n",
    "Sample Output :  \n",
    "Current date and time : 2014-07\n",
    "05 14:34:14  \n"
   ]
  },
  {
   "cell_type": "code",
   "execution_count": 109,
   "metadata": {},
   "outputs": [
    {
     "name": "stdout",
     "output_type": "stream",
     "text": [
      "2025-01-27 12:15:02.593382\n"
     ]
    }
   ],
   "source": [
    "import datetime as dt \n",
    "from datetime import datetime\n",
    "\n",
    "def getDate():\n",
    "    print(datetime.now())\n",
    "\n",
    "getDate()"
   ]
  },
  {
   "cell_type": "markdown",
   "metadata": {},
   "source": [
    "4. Write a Python program which accepts the radius of a circle from the user and compute the area.   \n",
    "Sample Output :  \n",
    "r = 1.1  \n",
    "Area = 3.8013271108436504  \n"
   ]
  },
  {
   "cell_type": "code",
   "execution_count": 111,
   "metadata": {},
   "outputs": [
    {
     "name": "stdout",
     "output_type": "stream",
     "text": [
      "Radius of circle is = 3.8013271108436504\n"
     ]
    }
   ],
   "source": [
    "import math as m \n",
    "\n",
    "def areaCircle():\n",
    "    radius = float(input(\"Enter radius for Circle --> \"))\n",
    "    print(\"Radius of circle is =\", m.pi * radius**2)\n",
    "    \n",
    "areaCircle()"
   ]
  },
  {
   "cell_type": "markdown",
   "metadata": {},
   "source": [
    "5. Write a Python program which accepts the user's first and last name and print them in \n",
    "reverse order with a space between them. \n"
   ]
  },
  {
   "cell_type": "code",
   "execution_count": 34,
   "metadata": {},
   "outputs": [
    {
     "name": "stdout",
     "output_type": "stream",
     "text": [
      "yanarP   hahS\n"
     ]
    }
   ],
   "source": [
    "def reverseName(first, last):\n",
    "    first = first[::-1]\n",
    "    last = last[::-1]\n",
    "    print(first, \" \", last)\n",
    "\n",
    "reverseName('Pranay', 'Shah')"
   ]
  },
  {
   "cell_type": "markdown",
   "metadata": {},
   "source": [
    "6. Write a Python program which accepts a sequence of comma-separated numbers from \n",
    "user and generate a list and a tuple with those numbers. Sample data : 3, 5, 7, 23 Output :  \n",
    "List : ['3', ' 5', ' 7', ' 23']  \n",
    "Tuple : ('3', ' 5', ' 7', ' 23')  \n"
   ]
  },
  {
   "cell_type": "code",
   "execution_count": 41,
   "metadata": {},
   "outputs": [
    {
     "name": "stdout",
     "output_type": "stream",
     "text": [
      "['3', '5', '7', '23'] \n",
      " ('3', '5', '7', '23')\n"
     ]
    }
   ],
   "source": [
    "def getListAndTuple():\n",
    "    numbers = input(\"Enter 5 numbers seperated by comma ',' --> \").split(',')\n",
    "    numberstuple = tuple(numbers)\n",
    "    print(numbers, \"\\n\", numberstuple)\n",
    "\n",
    "getListAndTuple()"
   ]
  },
  {
   "cell_type": "markdown",
   "metadata": {},
   "source": [
    "7. Write a Python program to accept a filename from the user and print the extension of that.   \n",
    "Sample filename : abc.java \n",
    "Output : java  \n"
   ]
  },
  {
   "cell_type": "code",
   "execution_count": 112,
   "metadata": {},
   "outputs": [
    {
     "name": "stdout",
     "output_type": "stream",
     "text": [
      "java\n",
      "py\n"
     ]
    }
   ],
   "source": [
    "def getExtension(filename):\n",
    "    ext = filename.split('.')\n",
    "    print(ext[1])\n",
    "\n",
    "getExtension('abc.java')\n",
    "getExtension(\"PythonPractice.py\")"
   ]
  },
  {
   "cell_type": "markdown",
   "metadata": {},
   "source": [
    "8. Write a Python program to display the first and last colors from the following list. color_list  \n",
    "= [\"Red\",\"Green\",\"White\" ,\"Black\"]  \n"
   ]
  },
  {
   "cell_type": "code",
   "execution_count": 43,
   "metadata": {},
   "outputs": [
    {
     "name": "stdout",
     "output_type": "stream",
     "text": [
      "Red   Black\n"
     ]
    }
   ],
   "source": [
    "def getFiratandLastColor(passlist):\n",
    "    firstcolor = passlist[0]\n",
    "    lastcolor = passlist[-1]\n",
    "    print(firstcolor, \" \", lastcolor)\n",
    "\n",
    "getFiratandLastColor([\"Red\",\"Green\",\"White\" ,\"Black\"])"
   ]
  },
  {
   "cell_type": "markdown",
   "metadata": {},
   "source": [
    "9. Write a Python program to display the examination schedule. (extract the date from \n",
    "exam_st_date).   \n",
    "exam_st_date = (11, 12, 2014)  \n",
    "Sample Output : The examination will start from : 11 / 12 / 2014\n"
   ]
  },
  {
   "cell_type": "code",
   "execution_count": 50,
   "metadata": {},
   "outputs": [
    {
     "name": "stdout",
     "output_type": "stream",
     "text": [
      "11 / 12 / 2014\n"
     ]
    }
   ],
   "source": [
    "def getDatefromTuple(exam_st_date):\n",
    "    day, month, year = exam_st_date\n",
    "    print(day, \"/\", month, \"/\", year)\n",
    "\n",
    "getDatefromTuple((11,12,2014))"
   ]
  },
  {
   "cell_type": "markdown",
   "metadata": {},
   "source": [
    "10. Write a Python program that accepts an integer (n) and computes the value of n+nn+nnn.   "
   ]
  },
  {
   "cell_type": "code",
   "execution_count": 51,
   "metadata": {},
   "outputs": [
    {
     "name": "stdout",
     "output_type": "stream",
     "text": [
      "1110\n"
     ]
    }
   ],
   "source": [
    "def getInteger(n):\n",
    "    print(n+(n*n)+(n*n*n))\n",
    "\n",
    "getInteger(10)"
   ]
  },
  {
   "cell_type": "markdown",
   "metadata": {},
   "source": [
    "11. Write a Python program to print the documents (syntax, description etc.) of Python built-in \n",
    "function(s).  \n",
    "Sample function : abs() Expected \n",
    "Result :  \n",
    "abs(number) -> number  \n",
    "Return the absolute value of the argument. \n"
   ]
  },
  {
   "cell_type": "code",
   "execution_count": 52,
   "metadata": {},
   "outputs": [
    {
     "name": "stdout",
     "output_type": "stream",
     "text": [
      "Help on built-in function abs in module builtins:\n",
      "\n",
      "abs(x, /)\n",
      "    Return the absolute value of the argument.\n",
      "\n"
     ]
    }
   ],
   "source": [
    "help(abs)"
   ]
  },
  {
   "cell_type": "markdown",
   "metadata": {},
   "source": [
    "12. Write a Python program to print the calendar of a given month and year. \n",
    "Note : Use \n",
    "'calendar' module.  \n"
   ]
  },
  {
   "cell_type": "code",
   "execution_count": 55,
   "metadata": {},
   "outputs": [
    {
     "name": "stdout",
     "output_type": "stream",
     "text": [
      "   February 2025\n",
      "Mo Tu We Th Fr Sa Su\n",
      "                1  2\n",
      " 3  4  5  6  7  8  9\n",
      "10 11 12 13 14 15 16\n",
      "17 18 19 20 21 22 23\n",
      "24 25 26 27 28\n",
      "\n"
     ]
    }
   ],
   "source": [
    "import calendar\n",
    "\n",
    "def getCalendar(year, month):\n",
    "    year = int(year)\n",
    "    month = int(month)\n",
    "\n",
    "    print(calendar.month(year, month))\n",
    "\n",
    "getCalendar(2025,2)\n",
    "\n"
   ]
  },
  {
   "cell_type": "markdown",
   "metadata": {},
   "source": [
    "14. Write a Python program to calculate number of days between two dates.  \n",
    "Sample dates : (2014, 7, 2), (2014, 7, 11)  \n",
    "Expected output : 9 days  \n"
   ]
  },
  {
   "cell_type": "code",
   "execution_count": 108,
   "metadata": {},
   "outputs": [
    {
     "name": "stdout",
     "output_type": "stream",
     "text": [
      "9 Days\n"
     ]
    }
   ],
   "source": [
    "from datetime import date  \n",
    "\n",
    "def dateDiff():\n",
    "    latestdate = date(2014, 7, 11) \n",
    "    oldeatdate = date(2014, 7, 2) \n",
    "    finaldate = latestdate-oldeatdate\n",
    "    print((finaldate.days), \"Days\")\n",
    "\n",
    "dateDiff()\n"
   ]
  },
  {
   "cell_type": "markdown",
   "metadata": {},
   "source": [
    "15. Write a Python program to get the volume of a sphere with radius 6.  "
   ]
  },
  {
   "cell_type": "code",
   "execution_count": 65,
   "metadata": {},
   "outputs": [
    {
     "name": "stdout",
     "output_type": "stream",
     "text": [
      "Volume of Sphere is -->  4188.790204786391\n"
     ]
    }
   ],
   "source": [
    "import math as m \n",
    "\n",
    "def getVolumneofSphere(radius):\n",
    "    r = int(radius)\n",
    "    print(\"Volume of Sphere is --> \", (4/3)*m.pi*r**3)\n",
    "\n",
    "getVolumneofSphere(10)"
   ]
  },
  {
   "cell_type": "markdown",
   "metadata": {},
   "source": [
    "16. Write a Python program to get the difference between a given number and 17, if the number is greater than 17 return double the absolute difference.   "
   ]
  },
  {
   "cell_type": "code",
   "execution_count": 68,
   "metadata": {},
   "outputs": [
    {
     "name": "stdout",
     "output_type": "stream",
     "text": [
      "383\n"
     ]
    }
   ],
   "source": [
    "def getDiffORDouble(n):\n",
    "    \"\"\" a Python program to get the difference between a given number and 17, \n",
    "    if the number is greater than 17 return double the absolute difference.   \n",
    "    \"\"\"\n",
    "    if n > 17:\n",
    "        print(n**2 - 17 )\n",
    "    else:\n",
    "        print(17 - n)\n",
    "\n",
    "getDiffORDouble(20)"
   ]
  },
  {
   "cell_type": "markdown",
   "metadata": {},
   "source": [
    "17. Write a Python program to test whether a number is within 100 of 1000 or 2000.   "
   ]
  },
  {
   "cell_type": "markdown",
   "metadata": {},
   "source": [
    "\te.g. if number is within range of \n",
    "1000-100  and 1000+100 , it’s 100 of 1000\n",
    "\te.g. any no. between 900 to 1100\n",
    "\n",
    "if the number is within range of \n",
    "2000-100  and 2000+100, it’s 100 of 2000\n",
    "\n",
    "\te.g.  any no. between 1900 to 2100"
   ]
  },
  {
   "cell_type": "code",
   "execution_count": null,
   "metadata": {},
   "outputs": [],
   "source": [
    "    "
   ]
  },
  {
   "cell_type": "markdown",
   "metadata": {},
   "source": [
    "18. Write a Python program to calculate the sum of three given numbers, if the values are \n",
    "equal then return three times of their sum.   \n"
   ]
  },
  {
   "cell_type": "code",
   "execution_count": 69,
   "metadata": {},
   "outputs": [
    {
     "name": "stdout",
     "output_type": "stream",
     "text": [
      "90\n"
     ]
    }
   ],
   "source": [
    "def getSumorThreeTimes(a,b,c):\n",
    "    if ((a==b) & (b==c)):\n",
    "        print(3*(a+b+c))\n",
    "    else:\n",
    "        print(a+b+c)\n",
    "\n",
    "getSumorThreeTimes(10,10,10)"
   ]
  },
  {
   "cell_type": "code",
   "execution_count": 70,
   "metadata": {},
   "outputs": [
    {
     "name": "stdout",
     "output_type": "stream",
     "text": [
      "60\n"
     ]
    }
   ],
   "source": [
    "getSumorThreeTimes(10,20,30)"
   ]
  },
  {
   "cell_type": "markdown",
   "metadata": {},
   "source": [
    "19. Write a Python program to get a new string from a given string where \"Is\" has been added \n",
    "to the front. If the given string already begins with \"Is\" then return the string unchanged.  \n"
   ]
  },
  {
   "cell_type": "code",
   "execution_count": 71,
   "metadata": {},
   "outputs": [
    {
     "data": {
      "text/plain": [
       "True"
      ]
     },
     "execution_count": 71,
     "metadata": {},
     "output_type": "execute_result"
    }
   ],
   "source": [
    "string = \"lspranay\"\n",
    "\n",
    "string[0:2] == 'ls'"
   ]
  },
  {
   "cell_type": "code",
   "execution_count": 78,
   "metadata": {},
   "outputs": [
    {
     "name": "stdout",
     "output_type": "stream",
     "text": [
      "lsnew\n"
     ]
    }
   ],
   "source": [
    "def getStringls(string):\n",
    "    if string[0:2] == 'ls':\n",
    "        print(string)\n",
    "    else:\n",
    "        print(\"ls\"+string)\n",
    "\n",
    "getStringls(\"lsnew\")"
   ]
  },
  {
   "cell_type": "code",
   "execution_count": 77,
   "metadata": {},
   "outputs": [
    {
     "name": "stdout",
     "output_type": "stream",
     "text": [
      "lspranay\n"
     ]
    }
   ],
   "source": [
    "getStringls('pranay')"
   ]
  },
  {
   "cell_type": "markdown",
   "metadata": {},
   "source": [
    " \n",
    "20. Write a Python program to get a string which is n (non-negative integer) copies of a given \n",
    "string.   \n"
   ]
  },
  {
   "cell_type": "code",
   "execution_count": null,
   "metadata": {},
   "outputs": [],
   "source": []
  },
  {
   "cell_type": "markdown",
   "metadata": {},
   "source": [
    "21. Write a Python program to find whether a given number (accept from the user) is even or \n",
    "odd, print out an appropriate message to the user.   \n"
   ]
  },
  {
   "cell_type": "code",
   "execution_count": 82,
   "metadata": {},
   "outputs": [
    {
     "name": "stdout",
     "output_type": "stream",
     "text": [
      "Entered NUmber 11 is ODD\n",
      "Entered NUmber 10 is EVEN\n"
     ]
    }
   ],
   "source": [
    "def getEvenorOdd(n):\n",
    "    if n%2==0:\n",
    "        print(f\"Entered NUmber {n} is EVEN\")\n",
    "    else:\n",
    "        print(f\"Entered NUmber {n} is ODD\")\n",
    "\n",
    "getEvenorOdd(11)\n",
    "getEvenorOdd(10)"
   ]
  },
  {
   "cell_type": "markdown",
   "metadata": {},
   "source": [
    "22. Write a Python program to count the number 4 in a given list.   "
   ]
  },
  {
   "cell_type": "code",
   "execution_count": 84,
   "metadata": {},
   "outputs": [
    {
     "name": "stdout",
     "output_type": "stream",
     "text": [
      "6\n"
     ]
    }
   ],
   "source": [
    "def countNumber4(lista):\n",
    "    count =0\n",
    "    for i in lista:\n",
    "        if i ==4:\n",
    "            count += 1\n",
    "    print(count)\n",
    "\n",
    "countNumber4([1,2,3,4,5,6,7,4,2,4,3,4,4,5,4,2,1])"
   ]
  },
  {
   "cell_type": "markdown",
   "metadata": {},
   "source": [
    "23. Write a Python program to get the n (non-negative integer) copies of the first 2 characters \n",
    "of a given string. Return the n copies of the whole string if the length is less than 2. \n"
   ]
  },
  {
   "cell_type": "code",
   "execution_count": null,
   "metadata": {},
   "outputs": [],
   "source": []
  },
  {
   "cell_type": "markdown",
   "metadata": {},
   "source": [
    "24. Write a Python program to test whether a passed letter is a vowel or not.   "
   ]
  },
  {
   "cell_type": "code",
   "execution_count": 95,
   "metadata": {},
   "outputs": [
    {
     "name": "stdout",
     "output_type": "stream",
     "text": [
      "Entered Letter is Vowel\n"
     ]
    }
   ],
   "source": [
    "\n",
    "def checkVowel(alpha):\n",
    "    if alpha.lower() in 'aeiou':\n",
    "        print(\"Entered Letter is Vowel\")\n",
    "    else:\n",
    "        print(\"Letter Passed is not a Vowel\")\n",
    "\n",
    "checkVowel('A')"
   ]
  },
  {
   "cell_type": "code",
   "execution_count": 94,
   "metadata": {},
   "outputs": [
    {
     "name": "stdout",
     "output_type": "stream",
     "text": [
      "True\n"
     ]
    }
   ],
   "source": [
    "letter = 'a'\n",
    "is_vowel = letter.lower() in 'aeiou'\n",
    "\n",
    "print(is_vowel)"
   ]
  },
  {
   "cell_type": "markdown",
   "metadata": {},
   "source": [
    "25. Write a Python program to check whether a specified value is contained in a group of \n",
    "values.   \n",
    "Test Data :  \n",
    "3 -> [1, 5, 8, 3] : True  \n",
    "-1 -> [1, 5, 8, 3] : False\n"
   ]
  },
  {
   "cell_type": "code",
   "execution_count": 98,
   "metadata": {},
   "outputs": [
    {
     "name": "stdout",
     "output_type": "stream",
     "text": [
      "Value is Present\n",
      "NUmber not is list\n"
     ]
    }
   ],
   "source": [
    "def checkValuePresent(n):\n",
    "    if n in [1,5,8,3]:\n",
    "        print(\"Value is Present\")\n",
    "    else:\n",
    "        print(\"NUmber not is list\")\n",
    "\n",
    "checkValuePresent(1)\n",
    "checkValuePresent(10)"
   ]
  }
 ],
 "metadata": {
  "kernelspec": {
   "display_name": "base",
   "language": "python",
   "name": "python3"
  },
  "language_info": {
   "codemirror_mode": {
    "name": "ipython",
    "version": 3
   },
   "file_extension": ".py",
   "mimetype": "text/x-python",
   "name": "python",
   "nbconvert_exporter": "python",
   "pygments_lexer": "ipython3",
   "version": "3.11.10"
  }
 },
 "nbformat": 4,
 "nbformat_minor": 2
}
