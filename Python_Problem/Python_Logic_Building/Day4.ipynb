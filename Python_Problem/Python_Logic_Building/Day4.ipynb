{
 "cells": [
  {
   "cell_type": "markdown",
   "metadata": {},
   "source": [
    "1. Write a Python program that iterate over elements repeating each as many times as its count. \n",
    "2. Write a Python program to find the most common elements and their counts of a specified text. \n",
    "3. Write a Python program to create a new deque with three items and iterate over the deque's elements.\n",
    "4. Write a Python program to find the occurrences of 10 most common words in a given text. \n",
    "5. Write a Python program that accept some words and count the number of distinct words. Print the number of distinct words and number of occurrences for each distinct word according to their appearance. \n",
    "6. Write a Python program that accept name of given subject and marks. Input number of subjects in first line and subject name,marks separated by a space in next line. Print subject name and marks in order of its first occurrence.\n",
    " 7. Write a Python program to create a deque and append few elements to the left and right, then remove some elements from the left, right sides and reverse the deque. \n",
    "8. Write a Python program to create a deque from an existing iterable object. \n",
    "9. Write a Python program to add more number of elements to a deque object from an iterable object. \n",
    "10. Write a Python program to remove all the elements of a given deque object. \n",
    "11. Write a Python program to copy of a deque object and verify the shallow copying process."
   ]
  },
  {
   "cell_type": "code",
   "execution_count": 9,
   "metadata": {},
   "outputs": [
    {
     "name": "stdout",
     "output_type": "stream",
     "text": [
      "1\n",
      "2\n",
      "66\n",
      "44\n",
      "54\n",
      "45\n",
      "32\n"
     ]
    }
   ],
   "source": [
    "#1\n",
    "from collections import Counter \n",
    "l1 = [1,2,4,5,2,1,66,44,54,45,44,33,22,32,23,32,54,45,66]\n",
    "count = Counter(l1)\n",
    "\n",
    "for key,values in count.items():\n",
    "    for i in range(1,values):\n",
    "        print(str(key)) \n"
   ]
  },
  {
   "cell_type": "markdown",
   "metadata": {},
   "source": [
    "Write a Python program to find the most common elements and their counts of a specified text. "
   ]
  },
  {
   "cell_type": "code",
   "execution_count": 18,
   "metadata": {},
   "outputs": [
    {
     "name": "stdout",
     "output_type": "stream",
     "text": [
      "Counter({'bhupesh': 2, 'chinmay': 2, 'hemant': 2, 'bhupendra': 1, 'pranay': 1, 'pratik': 1})\n"
     ]
    },
    {
     "data": {
      "text/plain": [
       "[('bhupesh', 2)]"
      ]
     },
     "execution_count": 18,
     "metadata": {},
     "output_type": "execute_result"
    }
   ],
   "source": [
    "l1 = ['bhupendra', 'pranay', 'bhupesh', 'chinmay', 'chinmay', 'pratik', 'hemant', 'hemant', 'bhupesh']\n",
    "\n",
    "count = Counter(l1)\n",
    "print(count)\n",
    "count.most_common(1)\n",
    "\n"
   ]
  },
  {
   "cell_type": "markdown",
   "metadata": {},
   "source": [
    "Write a Python program to create a new deque with three items and iterate over the deque's elements."
   ]
  },
  {
   "cell_type": "code",
   "execution_count": 19,
   "metadata": {},
   "outputs": [
    {
     "name": "stdout",
     "output_type": "stream",
     "text": [
      "pranay\n",
      "chinmay\n",
      "bhupendra\n"
     ]
    }
   ],
   "source": [
    "from collections import deque\n",
    "\n",
    "de = deque(['pranay', 'chinmay', 'bhupendra'])\n",
    "\n",
    "for i in de:\n",
    "    print(i)"
   ]
  },
  {
   "cell_type": "markdown",
   "metadata": {},
   "source": [
    "Write a Python program to find the occurrences of 10 most common words in a given text. "
   ]
  },
  {
   "cell_type": "code",
   "execution_count": 20,
   "metadata": {},
   "outputs": [
    {
     "name": "stdout",
     "output_type": "stream",
     "text": [
      "figure: 6\n",
      "before: 5\n",
      "represent: 5\n",
      "protect: 5\n",
      "occur: 5\n",
      "whatever: 5\n",
      "for: 5\n",
      "teach: 5\n",
      "brother: 4\n",
      "drive: 4\n"
     ]
    }
   ],
   "source": [
    "from faker import Faker\n",
    "from collections import Counter\n",
    "\n",
    "fake = Faker()\n",
    "\n",
    "word_list = [fake.word() for _ in range(1000)]\n",
    "\n",
    "most_common_words = Counter(word_list).most_common(10)\n",
    "\n",
    "for word, count in most_common_words:\n",
    "    print(f\"{word}: {count}\")"
   ]
  },
  {
   "cell_type": "markdown",
   "metadata": {},
   "source": [
    "Write a Python program that accept some words and count the number of distinct words. Print the number of distinct words and number of occurrences for each distinct word according to their appearance. "
   ]
  },
  {
   "cell_type": "code",
   "execution_count": 23,
   "metadata": {},
   "outputs": [
    {
     "name": "stdout",
     "output_type": "stream",
     "text": [
      "['chi', 'pran', 'bhupen', 'bhupe', 'bhupen', 'chi', 'pran', 'hem', 'hem']\n",
      "Counter({'chi': 2, 'pran': 2, 'bhupen': 2, 'hem': 2, 'bhupe': 1})\n"
     ]
    }
   ],
   "source": [
    "list1 = []\n",
    "for i in range(1,10):\n",
    "    word = input(\"Enter words---> \")\n",
    "    list1.append(word)\n",
    "\n",
    "print(list1)\n",
    "print(Counter(list1))"
   ]
  },
  {
   "cell_type": "markdown",
   "metadata": {},
   "source": [
    "Write a Python program that accept name of given subject and marks. Input number of subjects in first line and subject name,marks separated by a space in next line. Print subject name and marks in order of its first occurrence."
   ]
  },
  {
   "cell_type": "code",
   "execution_count": 27,
   "metadata": {},
   "outputs": [
    {
     "name": "stdout",
     "output_type": "stream",
     "text": [
      "{'physics': '96', 'chemistry': '90', 'maths': '98'}\n"
     ]
    }
   ],
   "source": [
    "studen ={}\n",
    "numberofsubj = int(input(\"Enter the number of subjects --> \"))\n",
    "\n",
    "for i in range(0,numberofsubj):\n",
    "    subj,marks = input(\"Enter subject and marks space sperated\").split()\n",
    "    studen[subj]=marks\n",
    "\n",
    "print(studen)"
   ]
  },
  {
   "cell_type": "markdown",
   "metadata": {},
   "source": [
    "Write a Python program to create a deque and append few elements to the left and right, then remove some elements from the left, right sides and reverse the deque. "
   ]
  },
  {
   "cell_type": "code",
   "execution_count": 47,
   "metadata": {},
   "outputs": [
    {
     "name": "stdout",
     "output_type": "stream",
     "text": [
      "[12, 10]\n",
      "[12, 10, 13]\n",
      "[9, 12, 10, 13]\n",
      "[9, 10, 13]\n"
     ]
    }
   ],
   "source": [
    "l1 = [10]\n",
    "def leftappend(n):\n",
    "    l1.insert(0,n)\n",
    "    print(l1)\n",
    "\n",
    "def rightappend(n):\n",
    "    l1.append(n)\n",
    "    print(l1)\n",
    "\n",
    "def removeleft(n):\n",
    "    if n>0:\n",
    "        l1.pop(n)\n",
    "        print(l1)\n",
    "    elif n<0:\n",
    "        n= -n\n",
    "        l1.pop(n)\n",
    "        print(l1)\n",
    "\n",
    "leftappend(12)\n",
    "rightappend(13)\n",
    "leftappend(9)\n",
    "# removeleft(1)\n",
    "removeleft(-1)"
   ]
  },
  {
   "cell_type": "code",
   "execution_count": null,
   "metadata": {},
   "outputs": [],
   "source": []
  }
 ],
 "metadata": {
  "kernelspec": {
   "display_name": "base",
   "language": "python",
   "name": "python3"
  },
  "language_info": {
   "codemirror_mode": {
    "name": "ipython",
    "version": 3
   },
   "file_extension": ".py",
   "mimetype": "text/x-python",
   "name": "python",
   "nbconvert_exporter": "python",
   "pygments_lexer": "ipython3",
   "version": "3.11.10"
  }
 },
 "nbformat": 4,
 "nbformat_minor": 2
}
