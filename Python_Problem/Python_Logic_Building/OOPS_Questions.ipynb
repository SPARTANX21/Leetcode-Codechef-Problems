{
 "cells": [
  {
   "cell_type": "markdown",
   "metadata": {},
   "source": [
    "**1. Write a Python program to create a class representing a Circle. Include methods to calculate its area and perimeter.**"
   ]
  },
  {
   "cell_type": "code",
   "execution_count": null,
   "metadata": {},
   "outputs": [
    {
     "name": "stdout",
     "output_type": "stream",
     "text": [
      "314.1592653589793\n",
      "628.3185307179587\n"
     ]
    }
   ],
   "source": [
    "import math as m\n",
    "\n",
    "class Circle:\n",
    "    def __init__(self, radius):\n",
    "        self.radius = radius\n",
    "    \n",
    "    def areaCircle(self):\n",
    "        return (m.pi * (self.radius)**2)\n",
    "    \n",
    "    def perimeterCircle(self):\n",
    "        return  (2 * m.pi * self.radius**2)\n",
    "\n",
    "\n",
    "circle = Circle(10)\n",
    "\n",
    "print(circle.areaCircle())\n",
    "print(circle.perimeterCircle())\n"
   ]
  },
  {
   "cell_type": "markdown",
   "metadata": {},
   "source": [
    "2. Write a Python program to create a person class. Include attributes like name, country and date of birth. Implement a method to determine the person's age."
   ]
  },
  {
   "cell_type": "code",
   "execution_count": 8,
   "metadata": {},
   "outputs": [
    {
     "data": {
      "text/plain": [
       "24"
      ]
     },
     "execution_count": 8,
     "metadata": {},
     "output_type": "execute_result"
    }
   ],
   "source": [
    "from datetime import date \n",
    "\n",
    "class person():\n",
    "    def __init__(self, name, country, dob):\n",
    "        self.name = name\n",
    "        self.country = country\n",
    "        self.dob = dob \n",
    "    \n",
    "    def calcAge(self):\n",
    "        today = date.today()\n",
    "        age = today.year - self.dob.year\n",
    "        if today < date(today.year, self.dob.month, self.dob.day):\n",
    "            age -= 1\n",
    "        return age\n",
    "\n",
    "person1 = person(\"Pranay Shah\", \"India\", date(2000,11,21))\n",
    "person1.calcAge()"
   ]
  },
  {
   "cell_type": "markdown",
   "metadata": {},
   "source": [
    "3. Write a Python program to create a calculator class. Include methods for basic arithmetic operations."
   ]
  },
  {
   "cell_type": "code",
   "execution_count": 11,
   "metadata": {},
   "outputs": [
    {
     "name": "stdout",
     "output_type": "stream",
     "text": [
      "Error: Division by zero is not allowed.\n",
      "10\n",
      "0\n",
      "10\n"
     ]
    }
   ],
   "source": [
    "class calculator():\n",
    "    def __init__(self, n1, n2):\n",
    "        self.n1=n1\n",
    "        self.n2=n2\n",
    "\n",
    "    def addition(self):\n",
    "        return self.n1+self.n2\n",
    "    \n",
    "    def multiplication(self):\n",
    "        return self.n1*self.n2\n",
    "    \n",
    "    def division(self):\n",
    "        try:\n",
    "            result = self.n1 / self.n2\n",
    "            return result\n",
    "        except ZeroDivisionError:\n",
    "            return \"Error: Division by zero is not allowed.\"\n",
    "        except Exception as e:\n",
    "            return f\"An error occurred: {e}\"\n",
    "    \n",
    "    def subtraction(self):\n",
    "        return abs(self.n1 - self.n2)\n",
    "\n",
    "\n",
    "calc1 = calculator(10,0)\n",
    "\n",
    "print(calc1.division())\n",
    "print(calc1.addition())\n",
    "print(calc1.multiplication())\n",
    "print(calc1.subtraction())"
   ]
  },
  {
   "cell_type": "markdown",
   "metadata": {},
   "source": [
    "4. Write a Python program to create a class that represents a shape. Include methods to calculate its area and perimeter. Implement subclasses for different shapes like circle, triangle, and square."
   ]
  },
  {
   "cell_type": "code",
   "execution_count": null,
   "metadata": {},
   "outputs": [],
   "source": [
    "import math \n",
    "\n",
    "class Shape():\n",
    "    def calc_area(self):\n",
    "        pass\n",
    "    def calc_perimeter(self):\n",
    "        pass\n",
    "\n",
    "class Circle(Shape):\n",
    "    def __init__(self, radius):\n",
    "        self.radius = radius\n",
    "\n",
    "    def calc_area(self):\n",
    "        return math.pi * self.radius**2\n",
    "    \n",
    "    def calc_perimeter(self):\n",
    "        return 2 * math.pi * self.radius\n",
    "    \n",
    "\n"
   ]
  }
 ],
 "metadata": {
  "kernelspec": {
   "display_name": "base",
   "language": "python",
   "name": "python3"
  },
  "language_info": {
   "codemirror_mode": {
    "name": "ipython",
    "version": 3
   },
   "file_extension": ".py",
   "mimetype": "text/x-python",
   "name": "python",
   "nbconvert_exporter": "python",
   "pygments_lexer": "ipython3",
   "version": "3.11.10"
  }
 },
 "nbformat": 4,
 "nbformat_minor": 2
}
