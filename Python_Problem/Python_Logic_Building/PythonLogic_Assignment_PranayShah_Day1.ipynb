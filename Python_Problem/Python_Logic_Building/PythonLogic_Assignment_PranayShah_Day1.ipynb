{
 "cells": [
  {
   "cell_type": "markdown",
   "metadata": {},
   "source": [
    "# **Python Logic Day 1 Solution - Pranay Shah**"
   ]
  },
  {
   "cell_type": "markdown",
   "metadata": {},
   "source": [
    "5. Write a Python program which accepts the user's first and last name and print them in \n",
    "reverse order with a space between them. \n"
   ]
  },
  {
   "cell_type": "code",
   "execution_count": null,
   "metadata": {},
   "outputs": [
    {
     "name": "stdout",
     "output_type": "stream",
     "text": [
      "yanarP   hahS\n"
     ]
    }
   ],
   "source": [
    "def reverseName(first, last):\n",
    "    first = first[::-1]\n",
    "    last = last[::-1]\n",
    "    print(first, \" \", last)\n",
    "\n",
    "reverseName('Pranay', 'Shah')"
   ]
  },
  {
   "cell_type": "markdown",
   "metadata": {},
   "source": [
    "12. Write a Python program to print the calendar of a given month and year. \n",
    "Note : Use \n",
    "'calendar' module.  \n"
   ]
  },
  {
   "cell_type": "code",
   "execution_count": null,
   "metadata": {},
   "outputs": [
    {
     "name": "stdout",
     "output_type": "stream",
     "text": [
      "   February 2025\n",
      "Mo Tu We Th Fr Sa Su\n",
      "                1  2\n",
      " 3  4  5  6  7  8  9\n",
      "10 11 12 13 14 15 16\n",
      "17 18 19 20 21 22 23\n",
      "24 25 26 27 28\n",
      "\n"
     ]
    }
   ],
   "source": [
    "import calendar\n",
    "\n",
    "def getCalendar(year, month):\n",
    "    year = int(year)\n",
    "    month = int(month)\n",
    "\n",
    "    print(calendar.month(year, month))\n",
    "\n",
    "getCalendar(2025,2)\n",
    "\n"
   ]
  },
  {
   "cell_type": "markdown",
   "metadata": {},
   "source": [
    "14. Write a Python program to calculate number of days between two dates.  \n",
    "Sample dates : (2014, 7, 2), (2014, 7, 11)  \n",
    "Expected output : 9 days  \n"
   ]
  },
  {
   "cell_type": "code",
   "execution_count": null,
   "metadata": {},
   "outputs": [
    {
     "name": "stdout",
     "output_type": "stream",
     "text": [
      "9 Days\n"
     ]
    }
   ],
   "source": [
    "from datetime import date  \n",
    "\n",
    "def dateDiff():\n",
    "    latestdate = date(2014, 7, 11) \n",
    "    oldeatdate = date(2014, 7, 2) \n",
    "    finaldate = latestdate-oldeatdate\n",
    "    print((finaldate.days), \"Days\")\n",
    "\n",
    "dateDiff()\n"
   ]
  },
  {
   "cell_type": "markdown",
   "metadata": {},
   "source": [
    "24. Write a Python program to test whether a passed letter is a vowel or not.   "
   ]
  },
  {
   "cell_type": "code",
   "execution_count": null,
   "metadata": {},
   "outputs": [
    {
     "name": "stdout",
     "output_type": "stream",
     "text": [
      "Entered Letter is Vowel\n"
     ]
    }
   ],
   "source": [
    "\n",
    "def checkVowel(alpha):\n",
    "    if alpha.lower() in 'aeiou':\n",
    "        print(\"Entered Letter is Vowel\")\n",
    "    else:\n",
    "        print(\"Letter Passed is not a Vowel\")\n",
    "\n",
    "checkVowel('A')"
   ]
  }
 ],
 "metadata": {
  "language_info": {
   "name": "python"
  }
 },
 "nbformat": 4,
 "nbformat_minor": 2
}
