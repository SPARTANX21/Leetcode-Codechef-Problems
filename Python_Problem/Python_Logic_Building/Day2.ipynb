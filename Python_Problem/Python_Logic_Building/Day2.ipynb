{
 "cells": [
  {
   "cell_type": "markdown",
   "metadata": {},
   "source": [
    "# **Day2 - Practice Problems - Pranay Shah**"
   ]
  },
  {
   "cell_type": "markdown",
   "metadata": {},
   "source": [
    "1.\n",
    "   Write a Python program to generate a text-based histogram from a given list of integers. The program should display each unique integer in the list alongside a row of stars (*) representing its frequency.\n",
    "Example Input:\n",
    "A list of integers: [1, 2, 1, 3, 2, 2, 4, 1]\n",
    "Expected Output:\n",
    "\n",
    "1: ***\n",
    "\n",
    "2: ***\n",
    "\n",
    "3: *\n",
    "\n",
    "4: *\n"
   ]
  },
  {
   "cell_type": "code",
   "execution_count": 15,
   "metadata": {},
   "outputs": [
    {
     "name": "stdout",
     "output_type": "stream",
     "text": [
      "{1: 2}\n",
      "{1: 3, 2: 2}\n",
      "{1: 4, 2: 3, 3: 2}\n",
      "{1: 5, 2: 4, 3: 3, 4: 2}\n"
     ]
    }
   ],
   "source": [
    "l = [1, 2, 1, 3, 2, 2, 4, 1]\n",
    "s = set(l)\n",
    "dict1 ={}\n",
    "# for i in \n",
    "\n",
    "for i in l:\n",
    "    if i not in dict1:\n",
    "        dict1[i] = 1\n",
    "        for k in dict1:\n",
    "            if k in l:\n",
    "                dict1[k] += 1\n",
    "        print(dict1)\n",
    "    \n",
    "# print(dict1)"
   ]
  },
  {
   "cell_type": "code",
   "execution_count": 16,
   "metadata": {},
   "outputs": [
    {
     "ename": "TypeError",
     "evalue": "argument of type 'int' is not iterable",
     "output_type": "error",
     "traceback": [
      "\u001b[1;31m---------------------------------------------------------------------------\u001b[0m",
      "\u001b[1;31mTypeError\u001b[0m                                 Traceback (most recent call last)",
      "Cell \u001b[1;32mIn[16], line 3\u001b[0m\n\u001b[0;32m      1\u001b[0m dict1 \u001b[38;5;241m=\u001b[39m {}\n\u001b[0;32m      2\u001b[0m \u001b[38;5;28;01mfor\u001b[39;00m i \u001b[38;5;129;01min\u001b[39;00m l:\n\u001b[1;32m----> 3\u001b[0m     \u001b[38;5;28;01mif\u001b[39;00m \u001b[43mi\u001b[49m\u001b[43m \u001b[49m\u001b[38;5;129;43;01mnot\u001b[39;49;00m\u001b[43m \u001b[49m\u001b[38;5;129;43;01min\u001b[39;49;00m\u001b[43m \u001b[49m\u001b[43mdict1\u001b[49m:\n\u001b[0;32m      4\u001b[0m         dict1 \u001b[38;5;241m=\u001b[39m i\n",
      "\u001b[1;31mTypeError\u001b[0m: argument of type 'int' is not iterable"
     ]
    }
   ],
   "source": [
    "dict1 = {}\n",
    "for i in l:\n",
    "    if i not in dict1:\n",
    "        dict1 = i"
   ]
  },
  {
   "cell_type": "markdown",
   "metadata": {},
   "source": [
    "2. Write a Python program to concatenate all elements in a list into a string and return it.   "
   ]
  },
  {
   "cell_type": "code",
   "execution_count": 26,
   "metadata": {},
   "outputs": [
    {
     "name": "stdout",
     "output_type": "stream",
     "text": [
      "12132241\n",
      "<class 'str'>\n"
     ]
    }
   ],
   "source": [
    "l = [1, 2, 1, 3, 2, 2, 4, 1]\n",
    "lstr = []\n",
    "for i in l:\n",
    "    lstr.append(str(i))\n",
    "\n",
    "strin1 = ''.join(lstr)\n",
    "\n",
    "print(strin1)\n",
    "print(type(strin1))"
   ]
  },
  {
   "cell_type": "markdown",
   "metadata": {},
   "source": [
    "3.\tWrite a Python program to print all even numbers from a given list of numbers in the same order. Stop printing if any number that comes after 237 in the sequence is encountered.\n",
    "  Sample \n",
    "\n",
    "numbers list : \n",
    "\n",
    "numbers = \n",
    "\n",
    "[ 386, 462, 47, 418, 907, 344, 236, 375, 823, 566, 597, 978, 328, 615, 953, 345, 399, 162, 758, 219, 237, 412, 566, 731, 210, 912, 216, 244, 896, 101, 867, 355, 430 ]\n"
   ]
  },
  {
   "cell_type": "code",
   "execution_count": 29,
   "metadata": {},
   "outputs": [
    {
     "name": "stdout",
     "output_type": "stream",
     "text": [
      "386 462 418 344 236 566 978 328 162 758 "
     ]
    }
   ],
   "source": [
    "numbers = [ 386, 462, 47, 418, 907, 344, 236, 375, 823, 566, 597, 978, 328, 615, 953, 345, 399, 162, 758, 219, 237, 412, \n",
    "           566, 731, 210, 912, 216, 244, 896, 101, 867, 355, 430 ]\n",
    "\n",
    "for i in numbers:\n",
    "    if (i == 237):\n",
    "        break\n",
    "    if i%2==0:\n",
    "        print(i, end= ' ')"
   ]
  },
  {
   "cell_type": "markdown",
   "metadata": {},
   "source": [
    "4. Write a Python program to print out a set containing all the colors from color_list_1 which are not present in color_list_2.   \n",
    "\n",
    "color_list_1 contains {\"Red\", \"Green\", \"Blue\", \"Yellow\"}\n",
    "\n",
    "color_list_2 contains {\"Blue\", \"Black\", \"Yellow\", \"White\"}\n",
    "\n",
    "expected output:  {\"Red\", \"Green\"}\n"
   ]
  },
  {
   "cell_type": "code",
   "execution_count": 32,
   "metadata": {},
   "outputs": [
    {
     "data": {
      "text/plain": [
       "{'Green', 'Red'}"
      ]
     },
     "execution_count": 32,
     "metadata": {},
     "output_type": "execute_result"
    }
   ],
   "source": [
    "color_list_1 = {\"Red\", \"Green\", \"Blue\", \"Yellow\"}\n",
    "\n",
    "color_list_2 = {\"Blue\", \"Black\", \"Yellow\", \"White\"}\n",
    "\n",
    "color_list_1.__sub__(color_list_2)"
   ]
  },
  {
   "cell_type": "markdown",
   "metadata": {},
   "source": [
    "5. Write a Python program that will accept the base and height of a triangle and compute the \n",
    "area.   \n"
   ]
  },
  {
   "cell_type": "code",
   "execution_count": 39,
   "metadata": {},
   "outputs": [
    {
     "data": {
      "text/plain": [
       "50.0"
      ]
     },
     "execution_count": 39,
     "metadata": {},
     "output_type": "execute_result"
    }
   ],
   "source": [
    "def triangleArea():\n",
    "    base =int(input(\"Enter Base:\"))\n",
    "    height = int(input(\"Enter Height:\"))\n",
    "    \n",
    "    a = (1/2)*base*height\n",
    "    return a \n",
    "\n",
    "triangleArea()\n"
   ]
  },
  {
   "cell_type": "markdown",
   "metadata": {},
   "source": [
    "6. Write a Python program to compute the greatest common divisor (GCD) of two positive integers.   "
   ]
  },
  {
   "cell_type": "code",
   "execution_count": null,
   "metadata": {},
   "outputs": [],
   "source": []
  },
  {
   "cell_type": "markdown",
   "metadata": {},
   "source": [
    "7. Write a Python program to get the least common multiple (LCM) of two positive integers.   "
   ]
  },
  {
   "cell_type": "code",
   "execution_count": null,
   "metadata": {},
   "outputs": [],
   "source": []
  },
  {
   "cell_type": "markdown",
   "metadata": {},
   "source": [
    "8. Write a Python program to sum of three given integers. However, if two values are equal , sum will be zero.   "
   ]
  },
  {
   "cell_type": "code",
   "execution_count": 51,
   "metadata": {},
   "outputs": [
    {
     "name": "stdout",
     "output_type": "stream",
     "text": [
      "35\n",
      "30\n"
     ]
    }
   ],
   "source": [
    "a, b, c= 5,10,20\n",
    "num = 0\n",
    "\n",
    "if (a==b) | (b==c) | (a==c):\n",
    "    print(\"0\")\n",
    "else:\n",
    "    num = a +b+c\n",
    "    print(num)\n",
    "\n",
    "def sumOf3Integer(a,b,c):\n",
    "    if (a==b) | (b==c) | (a==c):\n",
    "        print(\"0\")\n",
    "    else:\n",
    "        num = a +b+c\n",
    "        print(num)\n",
    "\n",
    "sumOf3Integer(5,15,10)\n"
   ]
  },
  {
   "cell_type": "markdown",
   "metadata": {},
   "source": [
    "9. Write a Python program to sum of two given integers. However, if the sum is between 15  to 20 it will return 20.  "
   ]
  },
  {
   "cell_type": "code",
   "execution_count": 54,
   "metadata": {},
   "outputs": [
    {
     "name": "stdout",
     "output_type": "stream",
     "text": [
      "15\n"
     ]
    }
   ],
   "source": [
    "a, b =10,7\n",
    "\n",
    "if (a,b):\n",
    "    sum = a+b\n",
    "    if sum >15 and sum <=20:\n",
    "        print(15)\n",
    "    else:\n",
    "        print(sum)\n"
   ]
  },
  {
   "cell_type": "markdown",
   "metadata": {},
   "source": [
    "10. Write a Python program that will return true if the two given integer values are equal or their sum or difference is 5.   "
   ]
  },
  {
   "cell_type": "code",
   "execution_count": 55,
   "metadata": {},
   "outputs": [
    {
     "name": "stdout",
     "output_type": "stream",
     "text": [
      "False\n"
     ]
    }
   ],
   "source": [
    "a, b =10,7\n",
    "\n",
    "sum = a+b\n",
    "diff = a-b\n",
    "if a ==b and sum==5 and diff ==5:\n",
    "    print('True')\n",
    "else:\n",
    "    print(\"False\")\n"
   ]
  },
  {
   "cell_type": "markdown",
   "metadata": {},
   "source": [
    "11. Write a Python program to add two objects if both objects are an integer type.   "
   ]
  },
  {
   "cell_type": "code",
   "execution_count": 70,
   "metadata": {},
   "outputs": [
    {
     "name": "stdout",
     "output_type": "stream",
     "text": [
      "20\n"
     ]
    }
   ],
   "source": [
    "a = 10\n",
    "b = 10\n",
    "\n",
    "if  isinstance(a, int) and isinstance(b, int):\n",
    "    sum = a +b\n",
    "    print(sum)"
   ]
  },
  {
   "cell_type": "markdown",
   "metadata": {},
   "source": [
    "12. Write a Python program to display your details like name, age, address in three different lines. "
   ]
  },
  {
   "cell_type": "code",
   "execution_count": 72,
   "metadata": {},
   "outputs": [
    {
     "name": "stdout",
     "output_type": "stream",
     "text": [
      "Pranay\n",
      "Kalyan, Mumbai\n",
      "34\n"
     ]
    }
   ],
   "source": [
    "name = input(\"Enter name -- >\")\n",
    "address = input(\"Enter address --> \")\n",
    "age = int(input(\"Enter your Age --> \"))\n",
    "\n",
    "print(name, address, age, sep = '\\n')"
   ]
  },
  {
   "cell_type": "markdown",
   "metadata": {},
   "source": [
    "13. Write a Python program to solve (x + y) * (x + y).   \n",
    "Test Data : x = 4, y = 3  \n",
    "Expected Output : (4 + 3) ^ 2) = 49  \n"
   ]
  },
  {
   "cell_type": "code",
   "execution_count": 74,
   "metadata": {},
   "outputs": [
    {
     "data": {
      "text/plain": [
       "100"
      ]
     },
     "execution_count": 74,
     "metadata": {},
     "output_type": "execute_result"
    }
   ],
   "source": [
    "def getSquare(x,y):\n",
    "    return (x+y)*(x+y)\n",
    "\n",
    "getSquare(5,5)"
   ]
  },
  {
   "cell_type": "markdown",
   "metadata": {},
   "source": [
    "14. Write a Python program to compute the future value of a specified principal amount, rate of interest, and a number of years.   \n",
    "Test Data : amt = 10000, int = 3.5, years = 7 \n",
    "Expected Output : 12722.79  \n"
   ]
  },
  {
   "cell_type": "code",
   "execution_count": 78,
   "metadata": {},
   "outputs": [
    {
     "name": "stdout",
     "output_type": "stream",
     "text": [
      "12722.792627665729\n"
     ]
    }
   ],
   "source": [
    "amt = 10000 \n",
    "int = 3.5\n",
    "years = 7 \n",
    "\n",
    "ci = ((1+int/100))**years * amt\n",
    "print(ci)\n"
   ]
  },
  {
   "cell_type": "markdown",
   "metadata": {},
   "source": [
    "15. Write a Python program to compute the distance between the points (x1, y1) and (x2, y2)."
   ]
  },
  {
   "cell_type": "code",
   "execution_count": 79,
   "metadata": {},
   "outputs": [
    {
     "name": "stdout",
     "output_type": "stream",
     "text": [
      "2.23606797749979\n"
     ]
    }
   ],
   "source": [
    "import numpy as np\n",
    "\n",
    "# initializing points in\n",
    "# numpy arrays\n",
    "point1 = np.array((1, 2, 3))\n",
    "point2 = np.array((1, 1, 1))    \n",
    "\n",
    "# calculating Euclidean distance\n",
    "# using linalg.norm()\n",
    "dist = np.linalg.norm(point1 - point2)\n",
    "\n",
    "# printing Euclidean distance\n",
    "print(dist)"
   ]
  },
  {
   "cell_type": "markdown",
   "metadata": {},
   "source": [
    "16. Write a Python program to check whether a file exists.   "
   ]
  },
  {
   "cell_type": "code",
   "execution_count": 82,
   "metadata": {},
   "outputs": [
    {
     "name": "stdout",
     "output_type": "stream",
     "text": [
      "True : File Exists\n"
     ]
    }
   ],
   "source": [
    "import sys\n",
    "import os\n",
    "path = r\"A:\\CDAC_SM_VITA\\13_PostCCEE_Prep\\1_Python\\Day2\\Day_2.docx\"\n",
    "\n",
    "if (os.path.exists(path)):\n",
    "    print(\"True : File Exists\")\n",
    "else:\n",
    "    print(\"False : File does not exsists\")\n"
   ]
  },
  {
   "cell_type": "markdown",
   "metadata": {},
   "source": [
    "17. Write a Python program to determine if a Python shell is executing in 32bit or 64bit mode on OS.   "
   ]
  },
  {
   "cell_type": "code",
   "execution_count": 92,
   "metadata": {},
   "outputs": [
    {
     "name": "stdout",
     "output_type": "stream",
     "text": [
      "64 bit\n"
     ]
    }
   ],
   "source": [
    "import struct\n",
    "\n",
    "print(struct.calcsize(\"P\") * 8, \"bit\")"
   ]
  },
  {
   "cell_type": "code",
   "execution_count": 89,
   "metadata": {},
   "outputs": [
    {
     "data": {
      "text/plain": [
       "['Struct',\n",
       " '__all__',\n",
       " '__builtins__',\n",
       " '__cached__',\n",
       " '__doc__',\n",
       " '__file__',\n",
       " '__loader__',\n",
       " '__name__',\n",
       " '__package__',\n",
       " '__spec__',\n",
       " '_clearcache',\n",
       " 'calcsize',\n",
       " 'error',\n",
       " 'iter_unpack',\n",
       " 'pack',\n",
       " 'pack_into',\n",
       " 'unpack',\n",
       " 'unpack_from']"
      ]
     },
     "execution_count": 89,
     "metadata": {},
     "output_type": "execute_result"
    }
   ],
   "source": [
    "dir(struct)"
   ]
  },
  {
   "cell_type": "markdown",
   "metadata": {},
   "source": [
    "18. Write a Python program to get OS name, platform and release information.   "
   ]
  },
  {
   "cell_type": "code",
   "execution_count": 93,
   "metadata": {},
   "outputs": [
    {
     "name": "stdout",
     "output_type": "stream",
     "text": [
      "nt\n",
      "Windows\n",
      "10\n"
     ]
    }
   ],
   "source": [
    "import platform \n",
    "\n",
    "print(os.name)\n",
    "\n",
    "print(platform.system())\n",
    "\n",
    "print(platform.release())"
   ]
  },
  {
   "cell_type": "markdown",
   "metadata": {},
   "source": [
    "19. Write a Python program to locate Python site-packages."
   ]
  },
  {
   "cell_type": "code",
   "execution_count": 95,
   "metadata": {},
   "outputs": [
    {
     "name": "stdout",
     "output_type": "stream",
     "text": [
      "['c:\\\\Users\\\\RKC\\\\anaconda3', 'c:\\\\Users\\\\RKC\\\\anaconda3\\\\Lib\\\\site-packages']\n"
     ]
    }
   ],
   "source": [
    "import site\n",
    "\n",
    "print(site.getsitepackages())"
   ]
  },
  {
   "cell_type": "markdown",
   "metadata": {},
   "source": [
    "20. Write a python program to call an external command in Python.   "
   ]
  },
  {
   "cell_type": "code",
   "execution_count": 105,
   "metadata": {},
   "outputs": [
    {
     "name": "stdout",
     "output_type": "stream",
     "text": [
      "1\n"
     ]
    }
   ],
   "source": [
    "import os\n",
    "print(os.system('ls -l'))"
   ]
  },
  {
   "cell_type": "markdown",
   "metadata": {},
   "source": [
    "21. Write a python program to get the path and name of the file that is currently executing.   "
   ]
  },
  {
   "cell_type": "code",
   "execution_count": null,
   "metadata": {},
   "outputs": [],
   "source": [
    "print(\"Current File Name: \", os.path.realpath(__file__))\n"
   ]
  },
  {
   "cell_type": "markdown",
   "metadata": {},
   "source": [
    "PS A:\\CDAC_SM_VITA\\13_PostCCEE_Prep\\1_Python\\Day2> python .\\new.py         \n",
    "Current File Name:  A:\\CDAC_SM_VITA\\13_PostCCEE_Prep\\1_Python\\Day2\\new.py"
   ]
  },
  {
   "cell_type": "markdown",
   "metadata": {},
   "source": [
    "22. Write a Python program to find out the number of CPUs using.   "
   ]
  },
  {
   "cell_type": "code",
   "execution_count": 110,
   "metadata": {},
   "outputs": [
    {
     "data": {
      "text/plain": [
       "8"
      ]
     },
     "execution_count": 110,
     "metadata": {},
     "output_type": "execute_result"
    }
   ],
   "source": [
    "os.cpu_count()"
   ]
  },
  {
   "cell_type": "markdown",
   "metadata": {},
   "source": [
    "23. Write a Python program to parse a string to Float or Integer.   "
   ]
  },
  {
   "cell_type": "code",
   "execution_count": 112,
   "metadata": {},
   "outputs": [
    {
     "name": "stdout",
     "output_type": "stream",
     "text": [
      "1.0\n"
     ]
    }
   ],
   "source": [
    "number = \"1\"\n",
    "\n",
    "if isinstance(number, str):\n",
    "    print(float(number))"
   ]
  },
  {
   "cell_type": "code",
   "execution_count": null,
   "metadata": {},
   "outputs": [],
   "source": []
  }
 ],
 "metadata": {
  "kernelspec": {
   "display_name": "base",
   "language": "python",
   "name": "python3"
  },
  "language_info": {
   "codemirror_mode": {
    "name": "ipython",
    "version": 3
   },
   "file_extension": ".py",
   "mimetype": "text/x-python",
   "name": "python",
   "nbconvert_exporter": "python",
   "pygments_lexer": "ipython3",
   "version": "3.11.10"
  }
 },
 "nbformat": 4,
 "nbformat_minor": 2
}
