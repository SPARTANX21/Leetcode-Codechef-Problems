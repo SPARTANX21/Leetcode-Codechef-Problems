{
 "cells": [
  {
   "cell_type": "markdown",
   "metadata": {},
   "source": [
    "Python: Sum of the first n positive integers"
   ]
  },
  {
   "cell_type": "code",
   "execution_count": 5,
   "metadata": {},
   "outputs": [
    {
     "name": "stdout",
     "output_type": "stream",
     "text": [
      "5050.0\n"
     ]
    }
   ],
   "source": [
    "n = int(input(\"Enter the number to gets its first n positive integer --> \"))\n",
    "\n",
    "sumn = (n*(n+1)) / 2\n",
    "\n",
    "print(sumn)"
   ]
  },
  {
   "cell_type": "markdown",
   "metadata": {},
   "source": [
    "Get file creation and modification date/times"
   ]
  },
  {
   "cell_type": "code",
   "execution_count": 10,
   "metadata": {},
   "outputs": [
    {
     "name": "stdout",
     "output_type": "stream",
     "text": [
      "Modified time =  Sat Dec 21 14:17:27 2024\n",
      "Created Time =  Sat Dec 21 14:13:07 2024\n"
     ]
    }
   ],
   "source": [
    "import os.path , time \n",
    "\n",
    "print(\"Modified time = \",time.ctime(os.path.getmtime(\"df_csv_tabsep.csv\")))\n",
    "\n",
    "print(\"Created Time = \",time.ctime(os.path.getctime(\"df_csv_tabsep.csv\")))"
   ]
  },
  {
   "cell_type": "markdown",
   "metadata": {},
   "source": [
    "Calculate sum of digits of a number"
   ]
  },
  {
   "cell_type": "code",
   "execution_count": 14,
   "metadata": {},
   "outputs": [
    {
     "name": "stdout",
     "output_type": "stream",
     "text": [
      "2\n"
     ]
    }
   ],
   "source": [
    "num = int(input(\"Enter a number: \"))\n",
    "print(sum(int(digit) for digit in str(num)))\n"
   ]
  },
  {
   "cell_type": "markdown",
   "metadata": {},
   "source": [
    "Sort files by date"
   ]
  },
  {
   "cell_type": "code",
   "execution_count": 15,
   "metadata": {},
   "outputs": [
    {
     "name": "stdout",
     "output_type": "stream",
     "text": [
      "Practice_W3.ipynb\n",
      "Placement_Prep.ipynb\n"
     ]
    }
   ],
   "source": [
    "import  glob\n",
    "import os\n",
    "\n",
    "files = glob.glob(\"*.ipynb\")\n",
    "\n",
    "files.sort(key=os.path.getmtime)\n",
    "\n",
    "print(\"\\n\".join(files))"
   ]
  },
  {
   "cell_type": "code",
   "execution_count": 26,
   "metadata": {},
   "outputs": [
    {
     "name": "stdout",
     "output_type": "stream",
     "text": [
      "{}\n"
     ]
    },
    {
     "data": {
      "text/plain": [
       "dict"
      ]
     },
     "execution_count": 26,
     "metadata": {},
     "output_type": "execute_result"
    }
   ],
   "source": [
    "a = dict()\n",
    "\n",
    "# type(a)\n",
    "\n",
    "# a[1] = 'Pranay'\n",
    "\n",
    "print(a); type(a)"
   ]
  },
  {
   "cell_type": "markdown",
   "metadata": {},
   "source": [
    "Get the size of an object in bytes"
   ]
  },
  {
   "cell_type": "code",
   "execution_count": 34,
   "metadata": {},
   "outputs": [
    {
     "name": "stdout",
     "output_type": "stream",
     "text": [
      "<class 'int'> 28\n",
      "<class 'float'> 24\n",
      "<class 'str'> 53\n",
      "<class 'complex'> 32\n"
     ]
    }
   ],
   "source": [
    "import sys\n",
    "a = 10\n",
    "b = 10.5\n",
    "c = \"10.5\"\n",
    "d = complex(10,5)\n",
    "l = [a,b,c,d]\n",
    "\n",
    "for i in l:\n",
    "    print(type(i), sys.getsizeof(i))"
   ]
  },
  {
   "cell_type": "markdown",
   "metadata": {},
   "source": [
    "Calculate the sum over a container"
   ]
  },
  {
   "cell_type": "code",
   "execution_count": 35,
   "metadata": {},
   "outputs": [
    {
     "data": {
      "text/plain": [
       "15"
      ]
     },
     "execution_count": 35,
     "metadata": {},
     "output_type": "execute_result"
    }
   ],
   "source": [
    "sum([1,2,3,4,5])"
   ]
  },
  {
   "cell_type": "markdown",
   "metadata": {},
   "source": [
    "Test whether all numbers of a list is greater than a certain number"
   ]
  },
  {
   "cell_type": "code",
   "execution_count": 42,
   "metadata": {},
   "outputs": [
    {
     "name": "stdout",
     "output_type": "stream",
     "text": [
      "False\n",
      "True\n"
     ]
    }
   ],
   "source": [
    "l1 = [2,3,4,6,7,9,5]\n",
    "l2 = [8,6,5,9,2,4,1]\n",
    "\n",
    "print(all(x>2 for x in l1))\n",
    "print(any(x%2==0 for x in l2))"
   ]
  },
  {
   "cell_type": "markdown",
   "metadata": {},
   "source": [
    " Count the number of occurrence of a specific character in a string"
   ]
  },
  {
   "cell_type": "code",
   "execution_count": null,
   "metadata": {},
   "outputs": [
    {
     "ename": "TypeError",
     "evalue": "must be str, not list",
     "output_type": "error",
     "traceback": [
      "\u001b[1;31m---------------------------------------------------------------------------\u001b[0m",
      "\u001b[1;31mTypeError\u001b[0m                                 Traceback (most recent call last)",
      "Cell \u001b[1;32mIn[48], line 10\u001b[0m\n\u001b[0;32m      1\u001b[0m string \u001b[38;5;241m=\u001b[39m \u001b[38;5;124m\"\u001b[39m\u001b[38;5;124mMy Name is pranay Bindesh Shah, I\u001b[39m\u001b[38;5;124m'\u001b[39m\u001b[38;5;124mm 22 years Old\u001b[39m\u001b[38;5;124m\"\u001b[39m\n\u001b[0;32m      3\u001b[0m \u001b[38;5;66;03m# freq=dict()\u001b[39;00m\n\u001b[0;32m      4\u001b[0m \n\u001b[0;32m      5\u001b[0m \u001b[38;5;66;03m# for i in string:\u001b[39;00m\n\u001b[0;32m      6\u001b[0m \u001b[38;5;66;03m#     if i not in freq[i]:\u001b[39;00m\n\u001b[0;32m      7\u001b[0m \u001b[38;5;66;03m#         freq[i] =1\u001b[39;00m\n\u001b[1;32m---> 10\u001b[0m \u001b[43mstring\u001b[49m\u001b[38;5;241;43m.\u001b[39;49m\u001b[43mcount\u001b[49m\u001b[43m(\u001b[49m\u001b[43m[\u001b[49m\u001b[38;5;124;43m'\u001b[39;49m\u001b[38;5;124;43ma\u001b[39;49m\u001b[38;5;124;43m'\u001b[39;49m\u001b[43m,\u001b[49m\u001b[43m \u001b[49m\u001b[38;5;124;43m'\u001b[39;49m\u001b[38;5;124;43me\u001b[39;49m\u001b[38;5;124;43m'\u001b[39;49m\u001b[43m]\u001b[49m\u001b[43m)\u001b[49m\n",
      "\u001b[1;31mTypeError\u001b[0m: must be str, not list"
     ]
    }
   ],
   "source": [
    "string = \"My Name is pranay Bindesh Shah, I'm 22 years Old\"\n",
    "\n",
    "# freq=dict()\n",
    "\n",
    "# for i in string:\n",
    "#     if i not in freq[i]:\n",
    "#         freq[i] =1\n",
    "\n"
   ]
  },
  {
   "cell_type": "code",
   "execution_count": null,
   "metadata": {},
   "outputs": [],
   "source": []
  }
 ],
 "metadata": {
  "kernelspec": {
   "display_name": "base",
   "language": "python",
   "name": "python3"
  },
  "language_info": {
   "codemirror_mode": {
    "name": "ipython",
    "version": 3
   },
   "file_extension": ".py",
   "mimetype": "text/x-python",
   "name": "python",
   "nbconvert_exporter": "python",
   "pygments_lexer": "ipython3",
   "version": "3.11.10"
  }
 },
 "nbformat": 4,
 "nbformat_minor": 2
}
