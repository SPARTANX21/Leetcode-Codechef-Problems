{
 "cells": [
  {
   "cell_type": "markdown",
   "metadata": {},
   "source": [
    "Python: Sum of the first n positive integers"
   ]
  },
  {
   "cell_type": "code",
   "execution_count": 5,
   "metadata": {},
   "outputs": [
    {
     "name": "stdout",
     "output_type": "stream",
     "text": [
      "5050.0\n"
     ]
    }
   ],
   "source": [
    "n = int(input(\"Enter the number to gets its first n positive integer --> \"))\n",
    "\n",
    "sumn = (n*(n+1)) / 2\n",
    "\n",
    "print(sumn)"
   ]
  },
  {
   "cell_type": "markdown",
   "metadata": {},
   "source": [
    "Get file creation and modification date/times"
   ]
  },
  {
   "cell_type": "code",
   "execution_count": 10,
   "metadata": {},
   "outputs": [
    {
     "name": "stdout",
     "output_type": "stream",
     "text": [
      "Modified time =  Sat Dec 21 14:17:27 2024\n",
      "Created Time =  Sat Dec 21 14:13:07 2024\n"
     ]
    }
   ],
   "source": [
    "import os.path , time \n",
    "\n",
    "print(\"Modified time = \",time.ctime(os.path.getmtime(\"df_csv_tabsep.csv\")))\n",
    "\n",
    "print(\"Created Time = \",time.ctime(os.path.getctime(\"df_csv_tabsep.csv\")))"
   ]
  },
  {
   "cell_type": "markdown",
   "metadata": {},
   "source": [
    "Calculate sum of digits of a number"
   ]
  },
  {
   "cell_type": "code",
   "execution_count": 14,
   "metadata": {},
   "outputs": [
    {
     "name": "stdout",
     "output_type": "stream",
     "text": [
      "2\n"
     ]
    }
   ],
   "source": [
    "num = int(input(\"Enter a number: \"))\n",
    "print(sum(int(digit) for digit in str(num)))\n"
   ]
  },
  {
   "cell_type": "markdown",
   "metadata": {},
   "source": [
    "Sort files by date"
   ]
  },
  {
   "cell_type": "code",
   "execution_count": 15,
   "metadata": {},
   "outputs": [
    {
     "name": "stdout",
     "output_type": "stream",
     "text": [
      "Practice_W3.ipynb\n",
      "Placement_Prep.ipynb\n"
     ]
    }
   ],
   "source": [
    "import  glob\n",
    "import os\n",
    "\n",
    "files = glob.glob(\"*.ipynb\")\n",
    "\n",
    "files.sort(key=os.path.getmtime)\n",
    "\n",
    "print(\"\\n\".join(files))"
   ]
  },
  {
   "cell_type": "code",
   "execution_count": 26,
   "metadata": {},
   "outputs": [
    {
     "name": "stdout",
     "output_type": "stream",
     "text": [
      "{}\n"
     ]
    },
    {
     "data": {
      "text/plain": [
       "dict"
      ]
     },
     "execution_count": 26,
     "metadata": {},
     "output_type": "execute_result"
    }
   ],
   "source": [
    "a = dict()\n",
    "\n",
    "# type(a)\n",
    "\n",
    "# a[1] = 'Pranay'\n",
    "\n",
    "print(a); type(a)"
   ]
  },
  {
   "cell_type": "markdown",
   "metadata": {},
   "source": [
    "Get the size of an object in bytes"
   ]
  },
  {
   "cell_type": "code",
   "execution_count": 34,
   "metadata": {},
   "outputs": [
    {
     "name": "stdout",
     "output_type": "stream",
     "text": [
      "<class 'int'> 28\n",
      "<class 'float'> 24\n",
      "<class 'str'> 53\n",
      "<class 'complex'> 32\n"
     ]
    }
   ],
   "source": [
    "import sys\n",
    "a = 10\n",
    "b = 10.5\n",
    "c = \"10.5\"\n",
    "d = complex(10,5)\n",
    "l = [a,b,c,d]\n",
    "\n",
    "for i in l:\n",
    "    print(type(i), sys.getsizeof(i))"
   ]
  },
  {
   "cell_type": "markdown",
   "metadata": {},
   "source": [
    "Calculate the sum over a container"
   ]
  },
  {
   "cell_type": "code",
   "execution_count": 35,
   "metadata": {},
   "outputs": [
    {
     "data": {
      "text/plain": [
       "15"
      ]
     },
     "execution_count": 35,
     "metadata": {},
     "output_type": "execute_result"
    }
   ],
   "source": [
    "sum([1,2,3,4,5])"
   ]
  },
  {
   "cell_type": "markdown",
   "metadata": {},
   "source": [
    "Test whether all numbers of a list is greater than a certain number"
   ]
  },
  {
   "cell_type": "code",
   "execution_count": 42,
   "metadata": {},
   "outputs": [
    {
     "name": "stdout",
     "output_type": "stream",
     "text": [
      "False\n",
      "True\n"
     ]
    }
   ],
   "source": [
    "l1 = [2,3,4,6,7,9,5]\n",
    "l2 = [8,6,5,9,2,4,1]\n",
    "\n",
    "print(all(x>2 for x in l1))\n",
    "print(any(x%2==0 for x in l2))"
   ]
  },
  {
   "cell_type": "markdown",
   "metadata": {},
   "source": [
    " Count the number of occurrence of a specific character in a string"
   ]
  },
  {
   "cell_type": "code",
   "execution_count": null,
   "metadata": {},
   "outputs": [
    {
     "ename": "TypeError",
     "evalue": "must be str, not list",
     "output_type": "error",
     "traceback": [
      "\u001b[1;31m---------------------------------------------------------------------------\u001b[0m",
      "\u001b[1;31mTypeError\u001b[0m                                 Traceback (most recent call last)",
      "Cell \u001b[1;32mIn[48], line 10\u001b[0m\n\u001b[0;32m      1\u001b[0m string \u001b[38;5;241m=\u001b[39m \u001b[38;5;124m\"\u001b[39m\u001b[38;5;124mMy Name is pranay Bindesh Shah, I\u001b[39m\u001b[38;5;124m'\u001b[39m\u001b[38;5;124mm 22 years Old\u001b[39m\u001b[38;5;124m\"\u001b[39m\n\u001b[0;32m      3\u001b[0m \u001b[38;5;66;03m# freq=dict()\u001b[39;00m\n\u001b[0;32m      4\u001b[0m \n\u001b[0;32m      5\u001b[0m \u001b[38;5;66;03m# for i in string:\u001b[39;00m\n\u001b[0;32m      6\u001b[0m \u001b[38;5;66;03m#     if i not in freq[i]:\u001b[39;00m\n\u001b[0;32m      7\u001b[0m \u001b[38;5;66;03m#         freq[i] =1\u001b[39;00m\n\u001b[1;32m---> 10\u001b[0m \u001b[43mstring\u001b[49m\u001b[38;5;241;43m.\u001b[39;49m\u001b[43mcount\u001b[49m\u001b[43m(\u001b[49m\u001b[43m[\u001b[49m\u001b[38;5;124;43m'\u001b[39;49m\u001b[38;5;124;43ma\u001b[39;49m\u001b[38;5;124;43m'\u001b[39;49m\u001b[43m,\u001b[49m\u001b[43m \u001b[49m\u001b[38;5;124;43m'\u001b[39;49m\u001b[38;5;124;43me\u001b[39;49m\u001b[38;5;124;43m'\u001b[39;49m\u001b[43m]\u001b[49m\u001b[43m)\u001b[49m\n",
      "\u001b[1;31mTypeError\u001b[0m: must be str, not list"
     ]
    }
   ],
   "source": [
    "string = \"My Name is pranay Bindesh Shah, I'm 22 years Old\"\n",
    "\n",
    "# freq=dict()\n",
    "\n",
    "# for i in string:\n",
    "#     if i not in freq[i]:\n",
    "#         freq[i] =1\n",
    "\n"
   ]
  },
  {
   "cell_type": "markdown",
   "metadata": {},
   "source": [
    "Function that takes a sequence of numbers and determines whether all are different from each other"
   ]
  },
  {
   "cell_type": "code",
   "execution_count": 4,
   "metadata": {},
   "outputs": [
    {
     "name": "stdout",
     "output_type": "stream",
     "text": [
      "Elemts are not unique\n"
     ]
    }
   ],
   "source": [
    "l1 = [2,3,6,1,8,4,9, 2]\n",
    "\n",
    "def uniqueElements(l1):\n",
    "    if len(l1) == len(set(l1)):\n",
    "        print(\"Elements are Unique\")\n",
    "    else:\n",
    "        print(\"Elemts are not unique\")\n",
    "\n",
    "uniqueElements(l1)"
   ]
  },
  {
   "cell_type": "markdown",
   "metadata": {},
   "source": [
    "Create all possible strings by using a, e, i, o, u"
   ]
  },
  {
   "cell_type": "code",
   "execution_count": 7,
   "metadata": {},
   "outputs": [
    {
     "name": "stdout",
     "output_type": "stream",
     "text": [
      "i a e u o\n",
      "i u o a e\n",
      "a o e u i\n",
      "i u e a o\n",
      "i e u a o\n",
      "e u o i a\n",
      "e u i a o\n",
      "i o u a e\n",
      "o a e i u\n"
     ]
    }
   ],
   "source": [
    "import random \n",
    "vowel =['a', 'e', 'i', 'o', 'u'] \n",
    "\n",
    "for i in range(1,len(vowel)*2):\n",
    "    random.shuffle(vowel)\n",
    "    print(\" \".join(vowel))\n"
   ]
  },
  {
   "cell_type": "code",
   "execution_count": 11,
   "metadata": {},
   "outputs": [
    {
     "name": "stdout",
     "output_type": "stream",
     "text": [
      "[1, 2, 3, 5, 6, 7, 8, 9, 7, 85, 6, 3, 2, 1, 4, 52, 3, 6, 5, 2]\n",
      "[1, 2, 3, 6, 7, 8, 9, 7, 85, 6, 3, 2, 1, 4, 52, 3, 6, 5, 2]\n",
      "[1, 2, 3, 7, 8, 9, 7, 85, 6, 3, 2, 1, 4, 52, 3, 6, 5, 2]\n",
      "[1, 2, 3, 8, 9, 7, 85, 6, 3, 2, 1, 4, 52, 3, 6, 5, 2]\n",
      "[1, 2, 3, 9, 7, 85, 6, 3, 2, 1, 4, 52, 3, 6, 5, 2]\n",
      "[1, 2, 3, 7, 85, 6, 3, 2, 1, 4, 52, 3, 6, 5, 2]\n",
      "[1, 2, 3, 85, 6, 3, 2, 1, 4, 52, 3, 6, 5, 2]\n",
      "[1, 2, 3, 6, 3, 2, 1, 4, 52, 3, 6, 5, 2]\n",
      "[1, 2, 3, 3, 2, 1, 4, 52, 3, 6, 5, 2]\n",
      "[1, 2, 3, 2, 1, 4, 52, 3, 6, 5, 2]\n",
      "[1, 2, 3, 1, 4, 52, 3, 6, 5, 2]\n",
      "[1, 2, 3, 4, 52, 3, 6, 5, 2]\n",
      "[1, 2, 3, 52, 3, 6, 5, 2]\n",
      "[1, 2, 3, 3, 6, 5, 2]\n",
      "[1, 2, 3, 6, 5, 2]\n",
      "[1, 2, 3, 5, 2]\n",
      "[1, 2, 3, 2]\n"
     ]
    }
   ],
   "source": [
    "l1 = [1,2,3,4,5,6,7,8,9,7,85,6,3,2,1,4,52,3,6,5,2]\n",
    "\n",
    "for _ in range(1, len(l1)):\n",
    "    if len(l1) != 4:\n",
    "        l1.pop(3)\n",
    "        print(l1)\n"
   ]
  },
  {
   "cell_type": "code",
   "execution_count": 13,
   "metadata": {},
   "outputs": [
    {
     "name": "stdout",
     "output_type": "stream",
     "text": [
      "4 5 6 7 8 9 7 85 6 3 2 1 4 52 3 6 5 "
     ]
    }
   ],
   "source": [
    "l1 = [1,2,3,4,5,6,7,8,9,7,85,6,3,2,1,4,52,3,6,5,2]\n",
    "\n",
    "for _ in range(1, len(l1)):\n",
    "    if len(l1) != 4:\n",
    "        a = l1.pop(3)\n",
    "        print(a, end = \" \")\n"
   ]
  },
  {
   "cell_type": "markdown",
   "metadata": {},
   "source": [
    "Create the combinations of 3 digit combo"
   ]
  },
  {
   "cell_type": "code",
   "execution_count": 22,
   "metadata": {},
   "outputs": [
    {
     "name": "stdout",
     "output_type": "stream",
     "text": [
      "999\n"
     ]
    },
    {
     "data": {
      "text/plain": [
       "['999']"
      ]
     },
     "execution_count": 22,
     "metadata": {},
     "output_type": "execute_result"
    }
   ],
   "source": [
    "numbers = []\n",
    "\n",
    "for num in range(1000):\n",
    "    num = str(num).zfill(3)\n",
    "\n",
    "print(num)\n",
    "numbers.append(num)\n",
    "numbers"
   ]
  },
  {
   "cell_type": "markdown",
   "metadata": {},
   "source": [
    "## **List**"
   ]
  },
  {
   "cell_type": "markdown",
   "metadata": {},
   "source": [
    "1. Sum Items in List"
   ]
  },
  {
   "cell_type": "code",
   "execution_count": 24,
   "metadata": {},
   "outputs": [
    {
     "name": "stdout",
     "output_type": "stream",
     "text": [
      "54\n"
     ]
    }
   ],
   "source": [
    "l1 = [2,5,8,9,10,20]\n",
    "\n",
    "print(sum(l1))"
   ]
  },
  {
   "cell_type": "markdown",
   "metadata": {},
   "source": [
    "2. Multiply Items in List"
   ]
  },
  {
   "cell_type": "code",
   "execution_count": 27,
   "metadata": {},
   "outputs": [
    {
     "name": "stdout",
     "output_type": "stream",
     "text": [
      "10\n"
     ]
    }
   ],
   "source": [
    "l1 = [5,2]\n",
    "mul = 1\n",
    "for i in l1:\n",
    "    mul *= i\n",
    "\n",
    "print(mul)"
   ]
  },
  {
   "cell_type": "markdown",
   "metadata": {},
   "source": [
    "3. Get Largest Number in List"
   ]
  },
  {
   "cell_type": "code",
   "execution_count": 28,
   "metadata": {},
   "outputs": [
    {
     "data": {
      "text/plain": [
       "88"
      ]
     },
     "execution_count": 28,
     "metadata": {},
     "output_type": "execute_result"
    }
   ],
   "source": [
    "l1 = [1,2,36,52,42,9,4,88,56,2]\n",
    "\n",
    "max(l1)"
   ]
  },
  {
   "cell_type": "markdown",
   "metadata": {},
   "source": [
    "4. Get Smallest Number in List"
   ]
  },
  {
   "cell_type": "code",
   "execution_count": 29,
   "metadata": {},
   "outputs": [
    {
     "data": {
      "text/plain": [
       "1"
      ]
     },
     "execution_count": 29,
     "metadata": {},
     "output_type": "execute_result"
    }
   ],
   "source": [
    "l1 = [1,2,36,52,42,9,4,88,56,2]\n",
    "\n",
    "min(l1)"
   ]
  },
  {
   "cell_type": "markdown",
   "metadata": {},
   "source": [
    "5. Count Strings with Same Start and End\n",
    "\n",
    "Write a Python program to count the number of strings from a given list of strings. The string length is 2 or more and the first and last characters are the same.\n",
    "\n",
    "Sample List : ['abc', 'xyz', 'aba', '1221']\n",
    "\n",
    "Expected Result : 2"
   ]
  },
  {
   "cell_type": "code",
   "execution_count": 44,
   "metadata": {},
   "outputs": [
    {
     "name": "stdout",
     "output_type": "stream",
     "text": [
      "aba  Starts and ends with same character\n",
      "1221  Starts and ends with same character\n",
      "omO  Starts and ends with same character\n"
     ]
    }
   ],
   "source": [
    "List1= ['abc', 'xyz', 'aba', '1221', 'pranay', 'omO']\n",
    "\n",
    "for i in List1:\n",
    "    if (len(i) >= 2) & (i[0].lower() == i[-1].lower()):\n",
    "        print(i, \" Starts and ends with same character\")\n"
   ]
  },
  {
   "cell_type": "markdown",
   "metadata": {},
   "source": [
    "6. Sort Tuples by Last Element\n",
    "\n",
    "Write a Python program to get a list, sorted in increasing order by the last element in each tuple from a given list of non-empty tuples.\n",
    "\n",
    "Sample List : [(2, 5), (1, 2), (4, 4), (2, 3), (2, 1)]\n",
    "\n",
    "Expected Result : [(2, 1), (1, 2), (2, 3), (4, 4), (2, 5)]"
   ]
  },
  {
   "cell_type": "code",
   "execution_count": 49,
   "metadata": {},
   "outputs": [
    {
     "data": {
      "text/plain": [
       "[(2, 1), (1, 2), (2, 3), (4, 4), (2, 5)]"
      ]
     },
     "execution_count": 50,
     "metadata": {},
     "output_type": "execute_result"
    }
   ],
   "source": [
    "Sample = [(2, 5), (1, 2), (4, 4), (2, 3), (2, 1)]\n",
    "def last(n):\n",
    "    return n[-1]\n",
    "\n",
    "sorted(Sample, key=last)"
   ]
  },
  {
   "cell_type": "markdown",
   "metadata": {},
   "source": [
    "7. Remove Duplicates from List"
   ]
  },
  {
   "cell_type": "code",
   "execution_count": 55,
   "metadata": {},
   "outputs": [
    {
     "name": "stdout",
     "output_type": "stream",
     "text": [
      "{1, 2, 3, 5, 6, 12, 21, 22, 23, 32, 42, 45, 54, 55, 63, 65, 74, 78, 212, 88, 98}\n"
     ]
    }
   ],
   "source": [
    "l1 = [12,32,55,1,2,3,6,5,42,54,63,212,88,98,78,88,74,45,65,22,21,23]\n",
    "\n",
    "set1  = set(l1)\n",
    "print(set1)"
   ]
  },
  {
   "cell_type": "markdown",
   "metadata": {},
   "source": [
    "8. Check if List is Empty"
   ]
  },
  {
   "cell_type": "code",
   "execution_count": 58,
   "metadata": {},
   "outputs": [
    {
     "name": "stdout",
     "output_type": "stream",
     "text": [
      "List is Empty\n"
     ]
    }
   ],
   "source": [
    "l1 = []\n",
    "# l1 = [1,2,3,6,5,4,5,8]\n",
    "if len(l1) == 0:\n",
    "    print(\"List is Empty\")\n",
    "else:\n",
    "    print(l1)"
   ]
  },
  {
   "cell_type": "markdown",
   "metadata": {},
   "source": [
    "9. Clone or Copy a List"
   ]
  },
  {
   "cell_type": "code",
   "execution_count": 65,
   "metadata": {},
   "outputs": [
    {
     "data": {
      "text/plain": [
       "False"
      ]
     },
     "execution_count": 65,
     "metadata": {},
     "output_type": "execute_result"
    }
   ],
   "source": [
    "l1 = [1,2,3,6,5,4,5,8]\n",
    "\n",
    "l2 = l1.copy()\n",
    "\n",
    "l3 = l1[:]\n",
    "\n",
    "id(l1) == id(l3)"
   ]
  },
  {
   "cell_type": "markdown",
   "metadata": {},
   "source": [
    "10. Find Words Longer Than n\n",
    "\n",
    "Write a Python program to find the list of words that are longer than n from a given list of words."
   ]
  },
  {
   "cell_type": "code",
   "execution_count": null,
   "metadata": {},
   "outputs": [],
   "source": []
  }
 ],
 "metadata": {
  "kernelspec": {
   "display_name": "base",
   "language": "python",
   "name": "python3"
  },
  "language_info": {
   "codemirror_mode": {
    "name": "ipython",
    "version": 3
   },
   "file_extension": ".py",
   "mimetype": "text/x-python",
   "name": "python",
   "nbconvert_exporter": "python",
   "pygments_lexer": "ipython3",
   "version": "3.11.10"
  }
 },
 "nbformat": 4,
 "nbformat_minor": 2
}
