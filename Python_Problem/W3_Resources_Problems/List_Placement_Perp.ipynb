{
 "cells": [
  {
   "cell_type": "markdown",
   "metadata": {},
   "source": [
    "# **LIST Preperation**"
   ]
  },
  {
   "cell_type": "markdown",
   "metadata": {},
   "source": [
    "1.  Count the number of occurrence of a specific character in a string"
   ]
  },
  {
   "cell_type": "code",
   "execution_count": 22,
   "metadata": {},
   "outputs": [
    {
     "name": "stdout",
     "output_type": "stream",
     "text": [
      "120\n"
     ]
    }
   ],
   "source": [
    "l1 = [1,2,3,4,5]\n",
    "\n",
    "sum(l1); \n",
    "\n",
    "tot = 1\n",
    "\n",
    "# [tot*+i for i,v in enumerate(l1)]\n",
    "\n",
    "for i in l1:\n",
    "    tot *= i\n",
    "\n",
    "print(tot)"
   ]
  },
  {
   "cell_type": "markdown",
   "metadata": {},
   "source": [
    "5. Write a Python program that accepts some words and counts the number of distinct words. Print the number of distinct words and the number of occurrences of each distinct word according to their appearance."
   ]
  },
  {
   "cell_type": "code",
   "execution_count": 2,
   "metadata": {},
   "outputs": [
    {
     "name": "stdout",
     "output_type": "stream",
     "text": [
      "red 3\n",
      "green 2\n",
      "orange 1\n",
      "black 2\n",
      "blue 2\n"
     ]
    }
   ],
   "source": [
    "l1 = ['red', 'green', 'green', 'red', 'orange', 'black', 'red'\n",
    "      ,'blue', 'black', 'blue']\n",
    "  \n",
    "d1 = {}  \n",
    "for i in l1:\n",
    "  if i not in d1:\n",
    "    d1[i] = 0\n",
    "  d1[i] += 1\n",
    "\n",
    "for k,v in d1.items():\n",
    "  print(k, v)"
   ]
  },
  {
   "cell_type": "markdown",
   "metadata": {},
   "source": [
    "6. Write a Python program that accepts the number of subjects, subject names and marks. Input the number of subjects and then the subject name and marks separated by a space on the next line. Print the subject name and marks in order of appearance."
   ]
  },
  {
   "cell_type": "code",
   "execution_count": 7,
   "metadata": {},
   "outputs": [
    {
     "name": "stdout",
     "output_type": "stream",
     "text": [
      "Bengali 58\n",
      "English 66\n",
      "Maths 70\n"
     ]
    }
   ],
   "source": [
    "nosubj = int(input(\"Enter number of Subjects - \"))\n",
    "\n",
    "for i in range(0, nosubj):\n",
    "    namemarks = input(\"Enter Subject anme and marks---> \").split(\" \")\n",
    "    print(*namemarks)"
   ]
  },
  {
   "cell_type": "markdown",
   "metadata": {},
   "source": [
    "7. Write a Python program to create a deque and append a few elements to the left and right. Next, remove some elements from the left and right sides and reverse the deque."
   ]
  },
  {
   "cell_type": "code",
   "execution_count": 27,
   "metadata": {},
   "outputs": [
    {
     "name": "stdout",
     "output_type": "stream",
     "text": [
      "Pink Red Green White\n",
      "Pink Red Green White Blue\n",
      "Pink Red Green White\n",
      "Red Green White\n"
     ]
    }
   ],
   "source": [
    "import collections \n",
    "\n",
    "\n",
    "dequecolor = collections.deque(['Red', 'Green', 'White'])\n",
    "\n",
    "(dequecolor.appendleft('Pink'))\n",
    "print(*dequecolor)\n",
    "\n",
    "dequecolor.append('Blue')\n",
    "print(*dequecolor)\n",
    "\n",
    "dequecolor.pop()\n",
    "print(*dequecolor)\n",
    "\n",
    "dequecolor.popleft()\n",
    "print(*dequecolor)"
   ]
  },
  {
   "cell_type": "markdown",
   "metadata": {},
   "source": [
    "7. Remove Duplicates from List\n",
    "\n",
    "Write a Python program to remove duplicates from a list."
   ]
  },
  {
   "cell_type": "code",
   "execution_count": 156,
   "metadata": {},
   "outputs": [
    {
     "data": {
      "text/plain": [
       "['green', 'blue', 'red', 'black', 'orange']"
      ]
     },
     "execution_count": 156,
     "metadata": {},
     "output_type": "execute_result"
    }
   ],
   "source": [
    "l1 = ['red', 'green', 'green', 'red', 'orange', 'black', 'red' ,'blue', 'black', 'blue']\n",
    "\n",
    "l1 = list(set(l1)); l1"
   ]
  },
  {
   "cell_type": "markdown",
   "metadata": {},
   "source": [
    "11. Check Common Member Between Two Lists\n",
    "\n",
    "Write a Python function that takes two lists and returns True if they have at least one common member."
   ]
  },
  {
   "cell_type": "code",
   "execution_count": 163,
   "metadata": {},
   "outputs": [
    {
     "data": {
      "text/plain": [
       "{20}"
      ]
     },
     "execution_count": 163,
     "metadata": {},
     "output_type": "execute_result"
    }
   ],
   "source": [
    "l1 = [10,20,40,50]\n",
    "l2 = [20,30,70,80]\n",
    "\n",
    "set(l1) & set(l2)"
   ]
  },
  {
   "cell_type": "markdown",
   "metadata": {},
   "source": [
    "12. Remove Specific Elements from List\n",
    "\n",
    "Write a Python program to print a specified list after removing the 0th, 4th and 5th elements.\n",
    "Sample List : ['Red', 'Green', 'White', 'Black', 'Pink', 'Yellow']\n",
    "Expected Output : ['Green', 'White', 'Black']"
   ]
  },
  {
   "cell_type": "code",
   "execution_count": 170,
   "metadata": {},
   "outputs": [
    {
     "data": {
      "text/plain": [
       "['Green', 'White', 'Black']"
      ]
     },
     "execution_count": 170,
     "metadata": {},
     "output_type": "execute_result"
    }
   ],
   "source": [
    "l = ['Red', 'Green', 'White', 'Black', 'Pink', 'Yellow']\n",
    "[item for idx, item in enumerate(l) if idx not in {0,4,5}]"
   ]
  },
  {
   "cell_type": "markdown",
   "metadata": {},
   "source": [
    "13. Generate 3D Array\n",
    "\n",
    "Write a Python program to generate a 3* 4 *6 3D array whose each element is *."
   ]
  },
  {
   "cell_type": "code",
   "execution_count": 172,
   "metadata": {},
   "outputs": [],
   "source": [
    "import numpy as np"
   ]
  },
  {
   "cell_type": "code",
   "execution_count": 173,
   "metadata": {},
   "outputs": [
    {
     "data": {
      "text/plain": [
       "[[['*', '*', '*', '*', '*', '*'],\n",
       "  ['*', '*', '*', '*', '*', '*'],\n",
       "  ['*', '*', '*', '*', '*', '*'],\n",
       "  ['*', '*', '*', '*', '*', '*']],\n",
       " [['*', '*', '*', '*', '*', '*'],\n",
       "  ['*', '*', '*', '*', '*', '*'],\n",
       "  ['*', '*', '*', '*', '*', '*'],\n",
       "  ['*', '*', '*', '*', '*', '*']],\n",
       " [['*', '*', '*', '*', '*', '*'],\n",
       "  ['*', '*', '*', '*', '*', '*'],\n",
       "  ['*', '*', '*', '*', '*', '*'],\n",
       "  ['*', '*', '*', '*', '*', '*']]]"
      ]
     },
     "execution_count": 173,
     "metadata": {},
     "output_type": "execute_result"
    }
   ],
   "source": [
    "[[['*']*6 for _ in range(4)] for _ in range(3)]"
   ]
  },
  {
   "cell_type": "markdown",
   "metadata": {},
   "source": [
    "14. Remove Even Numbers from List\n",
    "\n",
    "Write a Python program to print the numbers of a specified list after removing even numbers from it."
   ]
  },
  {
   "cell_type": "code",
   "execution_count": 176,
   "metadata": {},
   "outputs": [
    {
     "data": {
      "text/plain": [
       "[2, 4, 6, 8, 0, 10, 12, 14, 16, 18, 20]"
      ]
     },
     "execution_count": 176,
     "metadata": {},
     "output_type": "execute_result"
    }
   ],
   "source": [
    "l = [2,3,4,5,6,7,8,9,0,10,11,12,13,14,15,16,17,18,19,20]\n",
    "\n",
    "[i for i in l if i%2==0]"
   ]
  },
  {
   "cell_type": "markdown",
   "metadata": {},
   "source": [
    "15. Shuffle List\n",
    "\n",
    "Write a Python program to shuffle and print a specified list."
   ]
  },
  {
   "cell_type": "code",
   "execution_count": 274,
   "metadata": {},
   "outputs": [
    {
     "data": {
      "text/plain": [
       "[9, 11, 4, 7, 0, 1, 2, 6, 3, 10, 8, 5]"
      ]
     },
     "execution_count": 274,
     "metadata": {},
     "output_type": "execute_result"
    }
   ],
   "source": [
    "from random import shuffle\n",
    "from random import randint as r\n",
    "\n",
    "l = [i for i in range(0,r(0,20))]\n",
    "shuffle(l); l\n"
   ]
  },
  {
   "cell_type": "markdown",
   "metadata": {},
   "source": [
    "21. Convert List to String\n",
    "\n",
    "Write a Python program to convert a list of characters into a string."
   ]
  },
  {
   "cell_type": "code",
   "execution_count": 279,
   "metadata": {},
   "outputs": [
    {
     "name": "stdout",
     "output_type": "stream",
     "text": [
      "java\n"
     ]
    }
   ],
   "source": [
    "l = ['j', 'a', 'v', 'a']\n",
    "\n",
    "s = ''.join(l); print(s)"
   ]
  },
  {
   "cell_type": "markdown",
   "metadata": {},
   "source": [
    "22. Find Index of List Item\n",
    "\n",
    "Write a Python program to find the index of an item in a specified list."
   ]
  },
  {
   "cell_type": "code",
   "execution_count": 280,
   "metadata": {},
   "outputs": [
    {
     "name": "stdout",
     "output_type": "stream",
     "text": [
      "0 j\n",
      "1 a\n",
      "2 v\n",
      "3 a\n"
     ]
    }
   ],
   "source": [
    "for i,v in enumerate(l):\n",
    "    print(i, v)"
   ]
  },
  {
   "cell_type": "markdown",
   "metadata": {},
   "source": [
    "23. Flatten Shallow List\n",
    "\n",
    "Write a Python program to flatten a shallow list."
   ]
  },
  {
   "cell_type": "code",
   "execution_count": 285,
   "metadata": {},
   "outputs": [
    {
     "data": {
      "text/plain": [
       "[2, 4, 3, 1, 5, 6, 9, 7, 9, 0]"
      ]
     },
     "execution_count": 285,
     "metadata": {},
     "output_type": "execute_result"
    }
   ],
   "source": [
    "original_list = [[2, 4, 3], [1, 5, 6], [9], [7, 9, 0]]\n",
    "\n",
    "[item for sublist in original_list for item in sublist]"
   ]
  },
  {
   "cell_type": "markdown",
   "metadata": {},
   "source": [
    "24. Append One List to Another\n",
    "\n",
    "Write a Python program to append a list to the second list."
   ]
  },
  {
   "cell_type": "code",
   "execution_count": 287,
   "metadata": {},
   "outputs": [
    {
     "data": {
      "text/plain": [
       "[1, 2, 2, 3, 4, 4, 5, 5, 4, 3, 6, 5, 4, 10, 10, 20, 30, 40, 50, 60]"
      ]
     },
     "execution_count": 287,
     "metadata": {},
     "output_type": "execute_result"
    }
   ],
   "source": [
    "l = [1,2,2,3,4,4,5,5,4,3,6,5,4]\n",
    "\n",
    "l.extend([10,10,20,30,40,50,60]); l"
   ]
  },
  {
   "cell_type": "markdown",
   "metadata": {},
   "source": [
    "25. Select Random Item from List\n",
    "\n",
    "Write a Python program to select an item randomly from a list."
   ]
  },
  {
   "cell_type": "code",
   "execution_count": 307,
   "metadata": {},
   "outputs": [
    {
     "data": {
      "text/plain": [
       "50"
      ]
     },
     "execution_count": 307,
     "metadata": {},
     "output_type": "execute_result"
    }
   ],
   "source": [
    "from random import choice\n",
    "\n",
    "choice(l)"
   ]
  },
  {
   "cell_type": "markdown",
   "metadata": {},
   "source": [
    "27. Find Second Smallest Number in List\n",
    "\n",
    "Write a Python program to find the second smallest number in a list."
   ]
  },
  {
   "cell_type": "code",
   "execution_count": null,
   "metadata": {},
   "outputs": [],
   "source": [
    "def secondsmallest(lst):\n",
    "    unique = sorted(set(lst))\n",
    "    return unique[1] if len(unique)>1 else None\n"
   ]
  },
  {
   "cell_type": "code",
   "execution_count": null,
   "metadata": {},
   "outputs": [],
   "source": []
  },
  {
   "cell_type": "code",
   "execution_count": null,
   "metadata": {},
   "outputs": [],
   "source": []
  },
  {
   "cell_type": "code",
   "execution_count": null,
   "metadata": {},
   "outputs": [],
   "source": []
  },
  {
   "cell_type": "code",
   "execution_count": null,
   "metadata": {},
   "outputs": [],
   "source": []
  },
  {
   "cell_type": "code",
   "execution_count": null,
   "metadata": {},
   "outputs": [],
   "source": []
  },
  {
   "cell_type": "markdown",
   "metadata": {},
   "source": [
    "# **Loops**"
   ]
  },
  {
   "cell_type": "markdown",
   "metadata": {},
   "source": [
    "1. Write a Python program to find those numbers which are divisible by 7 and multiples of 5, between 1500 and 2700 (both included)."
   ]
  },
  {
   "cell_type": "code",
   "execution_count": 29,
   "metadata": {},
   "outputs": [
    {
     "name": "stdout",
     "output_type": "stream",
     "text": [
      "1505 1540 1575 1610 1645 1680 1715 1750 1785 1820 1855 1890 1925 1960 1995 2030 2065 2100 2135 2170 2205 2240 2275 2310 2345 2380 2415 2450 2485 2520 2555 2590 2625 2660 2695 "
     ]
    }
   ],
   "source": [
    "for i in range(1500, 2701):\n",
    "    if (i%7==0) & (i %5==0):\n",
    "        print(i, end = ' ')"
   ]
  },
  {
   "cell_type": "markdown",
   "metadata": {},
   "source": [
    "5. Write a Python program that accepts a word from the user and reverses it."
   ]
  },
  {
   "cell_type": "code",
   "execution_count": 32,
   "metadata": {},
   "outputs": [
    {
     "name": "stdout",
     "output_type": "stream",
     "text": [
      "tseB eht si hahS yanarP\n"
     ]
    }
   ],
   "source": [
    "word = input(\"Enter a String to see its reversed output ---> \")\n",
    "\n",
    "print(word[::-1])"
   ]
  },
  {
   "cell_type": "markdown",
   "metadata": {},
   "source": [
    "6. Write a Python program to count the number of even and odd numbers in a series of numbers\n",
    "Sample numbers : numbers = (1, 2, 3, 4, 5, 6, 7, 8, 9) \n",
    "Expected Output :\n",
    "Number of even numbers : 5\n",
    "Number of odd numbers : 4"
   ]
  },
  {
   "cell_type": "code",
   "execution_count": 36,
   "metadata": {},
   "outputs": [
    {
     "name": "stdout",
     "output_type": "stream",
     "text": [
      "Even =  4\n",
      "Odd =  5\n"
     ]
    }
   ],
   "source": [
    "numbers = (1, 2, 3, 4, 5, 6, 7, 8, 9) \n",
    "\n",
    "odd = 0\n",
    "even = 0\n",
    "\n",
    "for i in numbers:\n",
    "    if i%2==0:\n",
    "        even += 1\n",
    "    else:\n",
    "        odd += 1\n",
    "\n",
    "print('Even = ', even)\n",
    "print('Odd = ', odd)"
   ]
  },
  {
   "cell_type": "markdown",
   "metadata": {},
   "source": [
    "7. Write a Python program that prints each item and its corresponding type from the following list.\n",
    "Sample List : datalist = [1452, 11.23, 1+2j, True, 'w3resource', (0, -1), [5, 12], {\"class\":'V', \"section\":'A'}]"
   ]
  },
  {
   "cell_type": "code",
   "execution_count": 37,
   "metadata": {},
   "outputs": [
    {
     "name": "stdout",
     "output_type": "stream",
     "text": [
      "<class 'int'> <class 'float'> <class 'complex'> <class 'bool'> <class 'str'> <class 'tuple'> <class 'list'> <class 'dict'> "
     ]
    }
   ],
   "source": [
    "datalist = [1452, 11.23, 1+2j, True, 'w3resource', (0, -1), [5, 12], {\"class\":'V', \"section\":'A'}]\n",
    "\n",
    "for i in datalist:\n",
    "    print(type(i), end=' ')"
   ]
  },
  {
   "cell_type": "markdown",
   "metadata": {},
   "source": [
    "8. Write a Python program that prints all the numbers from 0 to 6 except 3 and 6.\n",
    "Note : Use 'continue' statement.\n",
    "Expected Output : 0 1 2 4 5"
   ]
  },
  {
   "cell_type": "code",
   "execution_count": 39,
   "metadata": {},
   "outputs": [
    {
     "name": "stdout",
     "output_type": "stream",
     "text": [
      "0 1 2 4 5 "
     ]
    }
   ],
   "source": [
    "for i in range(0,7):\n",
    "    if i==3 or i==6:\n",
    "        continue\n",
    "    print(i, end = ' ')"
   ]
  },
  {
   "cell_type": "markdown",
   "metadata": {},
   "source": [
    "9. Write a Python program to get the Fibonacci series between 0 and 50.\n",
    "Note : The Fibonacci Sequence is the series of numbers :\n",
    "\n",
    "0, 1, 1, 2, 3, 5, 8, 13, 21, ....\n",
    "\n",
    "Every next number is found by adding up the two numbers before it.\n",
    "\n",
    "Expected Output : 1 1 2 3 5 8 13 21 34"
   ]
  },
  {
   "cell_type": "code",
   "execution_count": 41,
   "metadata": {},
   "outputs": [
    {
     "name": "stdout",
     "output_type": "stream",
     "text": [
      "1 1 2 3 5 8 13 21 34 "
     ]
    }
   ],
   "source": [
    "x, y = 0, 1\n",
    "\n",
    "while y<50:\n",
    "    print(y, end = \" \")\n",
    "\n",
    "    x,y = y, x+y"
   ]
  },
  {
   "cell_type": "markdown",
   "metadata": {},
   "source": [
    "32. Write a Python program to check whether an alphabet is a vowel or consonant.\n",
    "Expected Output:\n",
    "\n",
    "Input a letter of the alphabet: k                                       \n",
    "k is a consonant."
   ]
  },
  {
   "cell_type": "code",
   "execution_count": 45,
   "metadata": {},
   "outputs": [],
   "source": [
    "letter = input(\"Enter a character --> \")\n",
    "\n",
    "if letter.lower() not in \"aeiou\":\n",
    "    print(letter, \" is consonant \")"
   ]
  },
  {
   "cell_type": "markdown",
   "metadata": {},
   "source": [
    "33. Write a Python program to convert a month name to a number of days.\n",
    "Expected Output:\n",
    "\n",
    "List of months: January, February, March, April, May, June, July, August\n",
    ", September, October, November, December                                \n",
    "Input the name of Month: February                                       \n",
    "No. of days: 28/29 days "
   ]
  },
  {
   "cell_type": "code",
   "execution_count": 70,
   "metadata": {},
   "outputs": [
    {
     "name": "stdout",
     "output_type": "stream",
     "text": [
      "{'January': 31, 'February': 28, 'March': 31, 'April': 30, 'May': 31, 'June': 30, 'July': 31, 'August': 31, 'September': 30, 'October': 31, 'November': 30, 'December': 31}\n",
      "30\n"
     ]
    }
   ],
   "source": [
    "import calendar\n",
    "dir(calendar)\n",
    "\n",
    "months = ['January', 'February', 'March', 'April', 'May', 'June', 'July', 'August', 'September', 'October', 'November', 'December' ]\n",
    "days = calendar.mdays\n",
    "l={}\n",
    "for m,d in zip(months, days[1:]):\n",
    "    l[m]=d\n",
    "print(l)\n",
    "\n",
    "inputmonth = input(\"ENter a monthname ---> \")\n",
    "\n",
    "if inputmonth in l:\n",
    "    print(l[inputmonth])"
   ]
  },
  {
   "cell_type": "markdown",
   "metadata": {},
   "source": [
    "34. Write a Python program to sum two integers. However, if the sum is between 15 and 20 it will return 20."
   ]
  },
  {
   "cell_type": "code",
   "execution_count": 73,
   "metadata": {},
   "outputs": [
    {
     "name": "stdout",
     "output_type": "stream",
     "text": [
      "20\n"
     ]
    }
   ],
   "source": [
    "num1 = int(input(\"Enter first number --> \"))\n",
    "num2 = int(input(\"Enter second number  --> \"))\n",
    "\n",
    "if num1+num2 in (range(15,20)):\n",
    "    print(20) \n",
    "else:\n",
    "    print(num1+num2)"
   ]
  },
  {
   "cell_type": "markdown",
   "metadata": {},
   "source": [
    "44. Write a Python program to construct the following pattern, using a nested loop number.\n",
    "Expected Output:\n",
    "\n",
    "1\n",
    "\n",
    "22\n",
    "\n",
    "333\n",
    "\n",
    "4444\n",
    "\n",
    "55555\n",
    "\n",
    "666666\n",
    "\n",
    "7777777\n",
    "\n",
    "88888888\n",
    "\n",
    "999999999"
   ]
  },
  {
   "cell_type": "code",
   "execution_count": 87,
   "metadata": {},
   "outputs": [
    {
     "name": "stdout",
     "output_type": "stream",
     "text": [
      "1 \n",
      "\n",
      "2 2 \n",
      "\n",
      "3 3 3 \n",
      "\n",
      "4 4 4 4 \n",
      "\n",
      "5 5 5 5 5 \n",
      "\n",
      "6 6 6 6 6 6 \n",
      "\n",
      "7 7 7 7 7 7 7 \n",
      "\n",
      "8 8 8 8 8 8 8 8 \n",
      "\n",
      "9 9 9 9 9 9 9 9 9 \n",
      "\n"
     ]
    }
   ],
   "source": [
    "for i in range(1,10):\n",
    "    for j in range(1, i+1):\n",
    "        print(i, end = ' ')\n",
    "    print('\\n')"
   ]
  },
  {
   "cell_type": "markdown",
   "metadata": {},
   "source": [
    "# **Dictionary Assigments**"
   ]
  },
  {
   "cell_type": "markdown",
   "metadata": {},
   "source": [
    "1. Write a Python script to sort (ascending and descending) a dictionary by value."
   ]
  },
  {
   "cell_type": "code",
   "execution_count": 92,
   "metadata": {},
   "outputs": [
    {
     "data": {
      "text/plain": [
       "[(0, 0), (2, 1), (1, 2), (4, 3), (3, 4)]"
      ]
     },
     "execution_count": 92,
     "metadata": {},
     "output_type": "execute_result"
    }
   ],
   "source": [
    "import operator as o \n",
    "\n",
    "d = {1: 2, 3: 4, 4: 3, 2: 1, 0: 0}\n",
    "\n",
    "sorted(d.items(), key=o.itemgetter(1))"
   ]
  },
  {
   "cell_type": "markdown",
   "metadata": {},
   "source": [
    "2. Write a Python script to add a key to a dictionary.\n",
    "\n",
    "Sample Dictionary : {0: 10, 1: 20}\n",
    "\n",
    "Expected Result : {0: 10, 1: 20, 2: 30}"
   ]
  },
  {
   "cell_type": "code",
   "execution_count": 102,
   "metadata": {},
   "outputs": [
    {
     "name": "stdout",
     "output_type": "stream",
     "text": [
      "{0: 10, 1: 20, 2: 10}\n"
     ]
    }
   ],
   "source": [
    "s1 = {0: 10, 1: 20}\n",
    "\n",
    "s1.update({2:10}); print(s1)"
   ]
  },
  {
   "cell_type": "markdown",
   "metadata": {},
   "source": [
    "3. Write a Python script to concatenate the following dictionaries to create a new one.\n",
    "\n",
    "Sample Dictionary :\n",
    "dic1={1:10, 2:20}\n",
    "dic2={3:30, 4:40}\n",
    "dic3={5:50,6:60}\n",
    "\n",
    "Expected Result : {1: 10, 2: 20, 3: 30, 4: 40, 5: 50, 6: 60}"
   ]
  },
  {
   "cell_type": "code",
   "execution_count": null,
   "metadata": {},
   "outputs": [
    {
     "name": "stdout",
     "output_type": "stream",
     "text": [
      "{1: 10, 2: 20, 3: 30, 4: 40, 5: 50, 6: 60}\n"
     ]
    }
   ],
   "source": [
    "dic1={1:10, 2:20}\n",
    "dic2={3:30, 4:40}\n",
    "dic3={5:50,6:60}\n",
    "dic4 = {}\n",
    "\n",
    "for dic in (dic1, dic2, dic3):\n",
    "    dic4.update(dic)\n",
    "\n",
    "print(dic4)"
   ]
  },
  {
   "cell_type": "markdown",
   "metadata": {},
   "source": [
    "4. Write a Python script to check whether a given key already exists in a dictionary."
   ]
  },
  {
   "cell_type": "code",
   "execution_count": 108,
   "metadata": {},
   "outputs": [
    {
     "name": "stdout",
     "output_type": "stream",
     "text": [
      "Key is not present in dictionary\n"
     ]
    }
   ],
   "source": [
    "if 7 in dic4.keys():\n",
    "    print(\"Key is present in dictionary\")\n",
    "else:\n",
    "    print(\"Key is not present in dictionary\")"
   ]
  },
  {
   "cell_type": "markdown",
   "metadata": {},
   "source": [
    "5. Write a Python program to iterate over dictionaries using for loops."
   ]
  },
  {
   "cell_type": "code",
   "execution_count": 116,
   "metadata": {},
   "outputs": [
    {
     "name": "stdout",
     "output_type": "stream",
     "text": [
      "1-10, 2-20, 3-30, 4-40, 5-50, 6-60, "
     ]
    }
   ],
   "source": [
    "for i in dic4.items():\n",
    "    print(*i, end = ', ', sep='-')"
   ]
  },
  {
   "cell_type": "markdown",
   "metadata": {},
   "source": [
    "6. Write a Python script to generate and print a dictionary that contains a number (between 1 and n) in the form (x, x*x).\n",
    "Sample Dictionary ( n = 5) :\n",
    "Expected Output : {1: 1, 2: 4, 3: 9, 4: 16, 5: 25}"
   ]
  },
  {
   "cell_type": "code",
   "execution_count": 117,
   "metadata": {},
   "outputs": [
    {
     "name": "stdout",
     "output_type": "stream",
     "text": [
      "{0: 0, 1: 1, 2: 4, 3: 9, 4: 16, 5: 25}\n"
     ]
    }
   ],
   "source": [
    "inputnumber = int(input(\"Enter number to gets its square in dictionary ---> \"))\n",
    "\n",
    "dict1 = {}\n",
    "\n",
    "for i in range(inputnumber+1):\n",
    "    dict1[i] = i*i\n",
    "\n",
    "print(dict1)"
   ]
  },
  {
   "cell_type": "markdown",
   "metadata": {},
   "source": [
    "7. Write a Python script to print a dictionary where the keys are numbers between 1 and 15 (both included) and the values are the square of the keys.\n",
    "Sample Dictionary\n",
    "{1: 1, 2: 4, 3: 9, 4: 16, 5: 25, 6: 36, 7: 49, 8: 64, 9: 81, 10: 100, 11: 121, 12: 144, 13: 169, 14: 196, 15: 225}"
   ]
  },
  {
   "cell_type": "code",
   "execution_count": 119,
   "metadata": {},
   "outputs": [
    {
     "name": "stdout",
     "output_type": "stream",
     "text": [
      "1 1  Are Squared values\n",
      "2 4  Are Squared values\n",
      "3 9  Are Squared values\n",
      "4 16  Are Squared values\n",
      "5 25  Are Squared values\n",
      "6 36  Are Squared values\n",
      "7 49  Are Squared values\n",
      "8 64  Are Squared values\n",
      "9 81  Are Squared values\n",
      "10 100  Are Squared values\n",
      "11 121  Are Squared values\n",
      "12 144  Are Squared values\n",
      "13 169  Are Squared values\n",
      "14 196  Are Squared values\n",
      "15 225  Are Squared values\n"
     ]
    }
   ],
   "source": [
    "s1 = {1: 1, 2: 4, 3: 9, 4: 16, 5: 25, 6: 36, 7: 49, 8: 64, 9: 81, 10: 100, 11: 121, 12: 144, 13: 169, 14: 196, 15: 225}\n",
    "\n",
    "\n",
    "for k,v in s1.items():\n",
    "    if k in range(1,16):\n",
    "        if v == k*k:\n",
    "            print(k, v, \" Are Squared values\") \n",
    "        else:\n",
    "            print(\"Value is not square\")"
   ]
  },
  {
   "cell_type": "markdown",
   "metadata": {},
   "source": [
    "8. Write a Python script to merge two Python dictionaries."
   ]
  },
  {
   "cell_type": "code",
   "execution_count": 122,
   "metadata": {},
   "outputs": [
    {
     "data": {
      "text/plain": [
       "{1: 20, 2: 40, 3: 60, 4: 80}"
      ]
     },
     "execution_count": 122,
     "metadata": {},
     "output_type": "execute_result"
    }
   ],
   "source": [
    "d1 = {1:20, 2:40}\n",
    "d2 = {3:60, 4:80}\n",
    "\n",
    "(d1.update(d2))\n",
    "d1"
   ]
  },
  {
   "cell_type": "markdown",
   "metadata": {},
   "source": [
    "10. Write a Python program to sum all the items in a dictionary.\n"
   ]
  },
  {
   "cell_type": "code",
   "execution_count": 127,
   "metadata": {},
   "outputs": [
    {
     "data": {
      "text/plain": [
       "200"
      ]
     },
     "execution_count": 127,
     "metadata": {},
     "output_type": "execute_result"
    }
   ],
   "source": [
    "sum(d1.values())"
   ]
  },
  {
   "cell_type": "markdown",
   "metadata": {},
   "source": [
    "11. Write a Python program to multiply all the items in a dictionary.\n"
   ]
  },
  {
   "cell_type": "code",
   "execution_count": 131,
   "metadata": {},
   "outputs": [
    {
     "name": "stdout",
     "output_type": "stream",
     "text": [
      "3840000\n"
     ]
    }
   ],
   "source": [
    "val = 1\n",
    "for k, v in d1.items():\n",
    "    val *= v\n",
    "print(val)"
   ]
  },
  {
   "cell_type": "markdown",
   "metadata": {},
   "source": [
    "12. Write a Python program to remove a key from a dictionary.\n"
   ]
  },
  {
   "cell_type": "code",
   "execution_count": 132,
   "metadata": {},
   "outputs": [
    {
     "data": {
      "text/plain": [
       "{1: 20, 2: 40, 3: 60, 4: 80}"
      ]
     },
     "execution_count": 132,
     "metadata": {},
     "output_type": "execute_result"
    }
   ],
   "source": [
    "d1"
   ]
  },
  {
   "cell_type": "code",
   "execution_count": 133,
   "metadata": {},
   "outputs": [
    {
     "data": {
      "text/plain": [
       "{1: 20, 3: 60, 4: 80}"
      ]
     },
     "execution_count": 133,
     "metadata": {},
     "output_type": "execute_result"
    }
   ],
   "source": [
    "del d1[2]; d1"
   ]
  },
  {
   "cell_type": "markdown",
   "metadata": {},
   "source": [
    "13. Write a Python program to map two lists into a dictionary.\n"
   ]
  },
  {
   "cell_type": "code",
   "execution_count": 137,
   "metadata": {},
   "outputs": [
    {
     "name": "stdout",
     "output_type": "stream",
     "text": [
      "{'a': 1, 'b': 2, 'c': 3, 'd': 4, 'e': 5, 'f': 6, 'g': 7}\n"
     ]
    }
   ],
   "source": [
    "l1 = ['a','b','c','d','e','f','g']\n",
    "l2 = [1,2,3,4,5,6,7]\n",
    "\n",
    "nd1 = {}\n",
    "for i,j in zip(l1, l2):\n",
    "    nd1[i]=j\n",
    "\n",
    "print(nd1)"
   ]
  },
  {
   "cell_type": "markdown",
   "metadata": {},
   "source": [
    "14. Write a Python program to sort a given dictionary by key.\n"
   ]
  },
  {
   "cell_type": "code",
   "execution_count": 138,
   "metadata": {},
   "outputs": [
    {
     "name": "stdout",
     "output_type": "stream",
     "text": [
      "black\n",
      "green\n",
      "red\n",
      "white\n"
     ]
    }
   ],
   "source": [
    "color_dict = {\n",
    "    'red': '#FF0000',\n",
    "    'green': '#008000',\n",
    "    'black': '#000000',\n",
    "    'white': '#FFFFFF'\n",
    "}\n",
    "\n",
    "for key in sorted(color_dict):\n",
    "    print(key)"
   ]
  },
  {
   "cell_type": "markdown",
   "metadata": {},
   "source": [
    "15. Write a Python program to get the maximum and minimum values of a dictionary.\n"
   ]
  },
  {
   "cell_type": "code",
   "execution_count": 142,
   "metadata": {},
   "outputs": [
    {
     "data": {
      "text/plain": [
       "('#FFFFFF', '#000000')"
      ]
     },
     "execution_count": 142,
     "metadata": {},
     "output_type": "execute_result"
    }
   ],
   "source": [
    "max(color_dict.values()), min(color_dict.values())"
   ]
  },
  {
   "cell_type": "markdown",
   "metadata": {},
   "source": [
    "16. Write a Python program to get a dictionary from an object's fields.\n"
   ]
  },
  {
   "cell_type": "code",
   "execution_count": null,
   "metadata": {},
   "outputs": [],
   "source": []
  },
  {
   "cell_type": "markdown",
   "metadata": {},
   "source": [
    "17. Write a Python program to remove duplicates from the dictionary.\n"
   ]
  },
  {
   "cell_type": "code",
   "execution_count": null,
   "metadata": {},
   "outputs": [],
   "source": []
  },
  {
   "cell_type": "markdown",
   "metadata": {},
   "source": [
    "18. Write a Python program to check if a dictionary is empty or not.\n"
   ]
  },
  {
   "cell_type": "code",
   "execution_count": 145,
   "metadata": {},
   "outputs": [
    {
     "name": "stdout",
     "output_type": "stream",
     "text": [
      "Its Empty\n"
     ]
    }
   ],
   "source": [
    "import numpy as np \n",
    "l = {}\n",
    "\n",
    "if not bool(l):\n",
    "    print(\"Its Empty\")"
   ]
  },
  {
   "cell_type": "markdown",
   "metadata": {},
   "source": [
    "19. Write a Python program to combine two dictionary by adding values for common keys.\n",
    "d1 = {'a': 100, 'b': 200, 'c':300}\n",
    "d2 = {'a': 300, 'b': 200, 'd':400}\n",
    "Sample output: Counter({'a': 400, 'b': 400, 'd': 400, 'c': 300})"
   ]
  },
  {
   "cell_type": "code",
   "execution_count": 152,
   "metadata": {},
   "outputs": [
    {
     "name": "stdout",
     "output_type": "stream",
     "text": [
      "Counter({'a': 400, 'b': 400, 'd': 400, 'c': 300})\n"
     ]
    }
   ],
   "source": [
    "d1 = {'a': 100, 'b': 200, 'c':300}\n",
    "d2 = {'a': 300, 'b': 200, 'd':400}\n",
    "\n",
    "from collections import Counter\n",
    "\n",
    "d = (Counter(d1) + Counter(d2))\n",
    "\n",
    "print(d)"
   ]
  },
  {
   "cell_type": "markdown",
   "metadata": {},
   "source": [
    "20. Write a  Python program to print all distinct values in a dictionary.\n",
    "Sample Data : [{\"V\":\"S001\"}, {\"V\": \"S002\"}, {\"VI\": \"S001\"}, {\"VI\": \"S005\"}, {\"VII\":\"S005\"}, {\"V\":\"S009\"},{\"VIII\":\"S007\"}]\n",
    "Expected Output : Unique Values: {'S005', 'S002', 'S007', 'S001', 'S009'}"
   ]
  },
  {
   "cell_type": "code",
   "execution_count": 155,
   "metadata": {},
   "outputs": [
    {
     "data": {
      "text/plain": [
       "{'S001', 'S002', 'S005', 'S007', 'S009'}"
      ]
     },
     "execution_count": 155,
     "metadata": {},
     "output_type": "execute_result"
    }
   ],
   "source": [
    "s = [{\"V\":\"S001\"}, {\"V\": \"S002\"}, {\"VI\": \"S001\"}, {\"VI\": \"S005\"}, {\"VII\":\"S005\"}, {\"V\":\"S009\"},{\"VIII\":\"S007\"}]\n",
    "\n",
    "set(val for dic in s for val in dic.values())\n"
   ]
  },
  {
   "cell_type": "markdown",
   "metadata": {},
   "source": []
  },
  {
   "cell_type": "code",
   "execution_count": null,
   "metadata": {},
   "outputs": [],
   "source": []
  },
  {
   "cell_type": "code",
   "execution_count": null,
   "metadata": {},
   "outputs": [],
   "source": []
  }
 ],
 "metadata": {
  "kernelspec": {
   "display_name": "base",
   "language": "python",
   "name": "python3"
  },
  "language_info": {
   "codemirror_mode": {
    "name": "ipython",
    "version": 3
   },
   "file_extension": ".py",
   "mimetype": "text/x-python",
   "name": "python",
   "nbconvert_exporter": "python",
   "pygments_lexer": "ipython3",
   "version": "3.11.10"
  }
 },
 "nbformat": 4,
 "nbformat_minor": 2
}
